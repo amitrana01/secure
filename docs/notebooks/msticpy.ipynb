{
 "cells": [
  {
   "cell_type": "code",
   "execution_count": 29,
   "id": "233c8a46",
   "metadata": {},
   "outputs": [
    {
     "name": "stdout",
     "output_type": "stream",
     "text": [
      "Requirement already satisfied: msticpy in /Users/amit/.local/share/virtualenvs/msticpy-QsK82nVI/lib/python3.10/site-packages (2.0.0)\n",
      "Requirement already satisfied: html5lib in /Users/amit/.local/share/virtualenvs/msticpy-QsK82nVI/lib/python3.10/site-packages (from msticpy) (1.1)\n",
      "Requirement already satisfied: setuptools>=40.6.3 in /Users/amit/.local/share/virtualenvs/msticpy-QsK82nVI/lib/python3.10/site-packages (from msticpy) (64.0.3)\n",
      "Requirement already satisfied: msrest>=0.6.0 in /Users/amit/.local/share/virtualenvs/msticpy-QsK82nVI/lib/python3.10/site-packages (from msticpy) (0.7.1)\n",
      "Requirement already satisfied: msrestazure>=0.6.0 in /Users/amit/.local/share/virtualenvs/msticpy-QsK82nVI/lib/python3.10/site-packages (from msticpy) (0.6.4)\n",
      "Requirement already satisfied: python-dateutil>=2.8.1 in /Users/amit/.local/share/virtualenvs/msticpy-QsK82nVI/lib/python3.10/site-packages (from msticpy) (2.8.2)\n",
      "Requirement already satisfied: ipython>=7.23.1 in /Users/amit/.local/share/virtualenvs/msticpy-QsK82nVI/lib/python3.10/site-packages (from msticpy) (8.4.0)\n",
      "Requirement already satisfied: pygeohash>=1.2.0 in /Users/amit/.local/share/virtualenvs/msticpy-QsK82nVI/lib/python3.10/site-packages (from msticpy) (1.2.0)\n",
      "Requirement already satisfied: httpx>=0.21 in /Users/amit/.local/share/virtualenvs/msticpy-QsK82nVI/lib/python3.10/site-packages (from msticpy) (0.23.0)\n",
      "Requirement already satisfied: msal-extensions>=0.3.0 in /Users/amit/.local/share/virtualenvs/msticpy-QsK82nVI/lib/python3.10/site-packages (from msticpy) (1.0.0)\n",
      "Requirement already satisfied: tqdm>=4.36.1 in /Users/amit/.local/share/virtualenvs/msticpy-QsK82nVI/lib/python3.10/site-packages (from msticpy) (4.64.0)\n",
      "Requirement already satisfied: urllib3>=1.23 in /Users/amit/.local/share/virtualenvs/msticpy-QsK82nVI/lib/python3.10/site-packages (from msticpy) (1.26.11)\n",
      "Requirement already satisfied: pygments>=2.0.0 in /Users/amit/.local/share/virtualenvs/msticpy-QsK82nVI/lib/python3.10/site-packages (from msticpy) (2.12.0)\n",
      "Requirement already satisfied: lxml>=4.6.3 in /Users/amit/.local/share/virtualenvs/msticpy-QsK82nVI/lib/python3.10/site-packages (from msticpy) (4.9.1)\n",
      "Requirement already satisfied: numpy>=1.15.4 in /Users/amit/.local/share/virtualenvs/msticpy-QsK82nVI/lib/python3.10/site-packages (from msticpy) (1.23.1)\n",
      "Requirement already satisfied: ipywidgets>=7.4.2 in /Users/amit/.local/share/virtualenvs/msticpy-QsK82nVI/lib/python3.10/site-packages (from msticpy) (7.7.1)\n",
      "Requirement already satisfied: azure-core>=1.2.2 in /Users/amit/.local/share/virtualenvs/msticpy-QsK82nVI/lib/python3.10/site-packages (from msticpy) (1.25.0)\n",
      "Requirement already satisfied: typing-extensions>=4.2.0 in /Users/amit/.local/share/virtualenvs/msticpy-QsK82nVI/lib/python3.10/site-packages (from msticpy) (4.3.0)\n",
      "Requirement already satisfied: bokeh>=1.4.0 in /Users/amit/.local/share/virtualenvs/msticpy-QsK82nVI/lib/python3.10/site-packages (from msticpy) (2.4.3)\n",
      "Requirement already satisfied: KqlmagicCustom[auth_code_clipboard,jupyter-basic]>=0.1.114 in /Users/amit/.local/share/virtualenvs/msticpy-QsK82nVI/lib/python3.10/site-packages (from msticpy) (0.1.114.post21)\n",
      "Requirement already satisfied: pyyaml>=3.13 in /Users/amit/.local/share/virtualenvs/msticpy-QsK82nVI/lib/python3.10/site-packages (from msticpy) (6.0)\n",
      "Requirement already satisfied: tldextract>=2.2.2 in /Users/amit/.local/share/virtualenvs/msticpy-QsK82nVI/lib/python3.10/site-packages (from msticpy) (3.3.1)\n",
      "Requirement already satisfied: azure-identity>=1.10.0 in /Users/amit/.local/share/virtualenvs/msticpy-QsK82nVI/lib/python3.10/site-packages (from msticpy) (1.10.0)\n",
      "Requirement already satisfied: pytz>=2019.2 in /Users/amit/.local/share/virtualenvs/msticpy-QsK82nVI/lib/python3.10/site-packages (from msticpy) (2022.2.1)\n",
      "Requirement already satisfied: dnspython<=2.0.0 in /Users/amit/.local/share/virtualenvs/msticpy-QsK82nVI/lib/python3.10/site-packages (from msticpy) (2.0.0)\n",
      "Requirement already satisfied: networkx>=2.2 in /Users/amit/.local/share/virtualenvs/msticpy-QsK82nVI/lib/python3.10/site-packages (from msticpy) (2.8.5)\n",
      "Requirement already satisfied: geoip2>=2.9.0 in /Users/amit/.local/share/virtualenvs/msticpy-QsK82nVI/lib/python3.10/site-packages (from msticpy) (4.6.0)\n",
      "Requirement already satisfied: azure-mgmt-subscription>=1.0.0 in /Users/amit/.local/share/virtualenvs/msticpy-QsK82nVI/lib/python3.10/site-packages (from msticpy) (3.0.0)\n",
      "Requirement already satisfied: cryptography>=3.1 in /Users/amit/.local/share/virtualenvs/msticpy-QsK82nVI/lib/python3.10/site-packages (from msticpy) (37.0.4)\n",
      "Requirement already satisfied: matplotlib>=3.0.0 in /Users/amit/.local/share/virtualenvs/msticpy-QsK82nVI/lib/python3.10/site-packages (from msticpy) (3.5.3)\n",
      "Requirement already satisfied: ipwhois>=1.1.0 in /Users/amit/.local/share/virtualenvs/msticpy-QsK82nVI/lib/python3.10/site-packages (from msticpy) (1.2.0)\n",
      "Requirement already satisfied: azure-common>=1.1.18 in /Users/amit/.local/share/virtualenvs/msticpy-QsK82nVI/lib/python3.10/site-packages (from msticpy) (1.1.28)\n",
      "Requirement already satisfied: folium>=0.9.0 in /Users/amit/.local/share/virtualenvs/msticpy-QsK82nVI/lib/python3.10/site-packages (from msticpy) (0.12.1.post1)\n",
      "Requirement already satisfied: attrs>=18.2.0 in /Users/amit/.local/share/virtualenvs/msticpy-QsK82nVI/lib/python3.10/site-packages (from msticpy) (22.1.0)\n",
      "Requirement already satisfied: pandas>=1.4.0 in /Users/amit/.local/share/virtualenvs/msticpy-QsK82nVI/lib/python3.10/site-packages (from msticpy) (1.4.3)\n",
      "Requirement already satisfied: deprecated>=1.2.4 in /Users/amit/.local/share/virtualenvs/msticpy-QsK82nVI/lib/python3.10/site-packages (from msticpy) (1.2.13)\n",
      "Requirement already satisfied: msal>=1.12.0 in /Users/amit/.local/share/virtualenvs/msticpy-QsK82nVI/lib/python3.10/site-packages (from msticpy) (1.18.0)\n",
      "Requirement already satisfied: requests>=2.18.4 in /Users/amit/.local/share/virtualenvs/msticpy-QsK82nVI/lib/python3.10/site-packages (from azure-core>=1.2.2->msticpy) (2.28.1)\n",
      "Requirement already satisfied: six>=1.11.0 in /Users/amit/.local/share/virtualenvs/msticpy-QsK82nVI/lib/python3.10/site-packages (from azure-core>=1.2.2->msticpy) (1.16.0)\n",
      "Requirement already satisfied: azure-mgmt-core<2.0.0,>=1.3.0 in /Users/amit/.local/share/virtualenvs/msticpy-QsK82nVI/lib/python3.10/site-packages (from azure-mgmt-subscription>=1.0.0->msticpy) (1.3.2)\n",
      "Requirement already satisfied: pillow>=7.1.0 in /Users/amit/.local/share/virtualenvs/msticpy-QsK82nVI/lib/python3.10/site-packages (from bokeh>=1.4.0->msticpy) (9.2.0)\n",
      "Requirement already satisfied: Jinja2>=2.9 in /Users/amit/.local/share/virtualenvs/msticpy-QsK82nVI/lib/python3.10/site-packages (from bokeh>=1.4.0->msticpy) (3.1.2)\n",
      "Requirement already satisfied: tornado>=5.1 in /Users/amit/.local/share/virtualenvs/msticpy-QsK82nVI/lib/python3.10/site-packages (from bokeh>=1.4.0->msticpy) (6.2)\n",
      "Requirement already satisfied: packaging>=16.8 in /Users/amit/.local/share/virtualenvs/msticpy-QsK82nVI/lib/python3.10/site-packages (from bokeh>=1.4.0->msticpy) (21.3)\n",
      "Requirement already satisfied: cffi>=1.12 in /Users/amit/.local/share/virtualenvs/msticpy-QsK82nVI/lib/python3.10/site-packages (from cryptography>=3.1->msticpy) (1.15.1)\n",
      "Requirement already satisfied: wrapt<2,>=1.10 in /Users/amit/.local/share/virtualenvs/msticpy-QsK82nVI/lib/python3.10/site-packages (from deprecated>=1.2.4->msticpy) (1.14.1)\n",
      "Requirement already satisfied: branca>=0.3.0 in /Users/amit/.local/share/virtualenvs/msticpy-QsK82nVI/lib/python3.10/site-packages (from folium>=0.9.0->msticpy) (0.5.0)\n",
      "Requirement already satisfied: maxminddb<3.0.0,>=2.2.0 in /Users/amit/.local/share/virtualenvs/msticpy-QsK82nVI/lib/python3.10/site-packages (from geoip2>=2.9.0->msticpy) (2.2.0)\n",
      "Requirement already satisfied: aiohttp<4.0.0,>=3.6.2 in /Users/amit/.local/share/virtualenvs/msticpy-QsK82nVI/lib/python3.10/site-packages (from geoip2>=2.9.0->msticpy) (3.8.1)\n",
      "Requirement already satisfied: sniffio in /Users/amit/.local/share/virtualenvs/msticpy-QsK82nVI/lib/python3.10/site-packages (from httpx>=0.21->msticpy) (1.2.0)\n",
      "Requirement already satisfied: rfc3986[idna2008]<2,>=1.3 in /Users/amit/.local/share/virtualenvs/msticpy-QsK82nVI/lib/python3.10/site-packages (from httpx>=0.21->msticpy) (1.5.0)\n",
      "Requirement already satisfied: httpcore<0.16.0,>=0.15.0 in /Users/amit/.local/share/virtualenvs/msticpy-QsK82nVI/lib/python3.10/site-packages (from httpx>=0.21->msticpy) (0.15.0)\n",
      "Requirement already satisfied: certifi in /Users/amit/.local/share/virtualenvs/msticpy-QsK82nVI/lib/python3.10/site-packages (from httpx>=0.21->msticpy) (2022.6.15)\n"
     ]
    },
    {
     "name": "stdout",
     "output_type": "stream",
     "text": [
      "Requirement already satisfied: jedi>=0.16 in /Users/amit/.local/share/virtualenvs/msticpy-QsK82nVI/lib/python3.10/site-packages (from ipython>=7.23.1->msticpy) (0.18.1)\n",
      "Requirement already satisfied: pickleshare in /Users/amit/.local/share/virtualenvs/msticpy-QsK82nVI/lib/python3.10/site-packages (from ipython>=7.23.1->msticpy) (0.7.5)\n",
      "Requirement already satisfied: backcall in /Users/amit/.local/share/virtualenvs/msticpy-QsK82nVI/lib/python3.10/site-packages (from ipython>=7.23.1->msticpy) (0.2.0)\n",
      "Requirement already satisfied: appnope in /Users/amit/.local/share/virtualenvs/msticpy-QsK82nVI/lib/python3.10/site-packages (from ipython>=7.23.1->msticpy) (0.1.3)\n",
      "Requirement already satisfied: stack-data in /Users/amit/.local/share/virtualenvs/msticpy-QsK82nVI/lib/python3.10/site-packages (from ipython>=7.23.1->msticpy) (0.3.0)\n",
      "Requirement already satisfied: traitlets>=5 in /Users/amit/.local/share/virtualenvs/msticpy-QsK82nVI/lib/python3.10/site-packages (from ipython>=7.23.1->msticpy) (5.3.0)\n",
      "Requirement already satisfied: matplotlib-inline in /Users/amit/.local/share/virtualenvs/msticpy-QsK82nVI/lib/python3.10/site-packages (from ipython>=7.23.1->msticpy) (0.1.3)\n",
      "Requirement already satisfied: prompt-toolkit!=3.0.0,!=3.0.1,<3.1.0,>=2.0.0 in /Users/amit/.local/share/virtualenvs/msticpy-QsK82nVI/lib/python3.10/site-packages (from ipython>=7.23.1->msticpy) (3.0.30)\n",
      "Requirement already satisfied: decorator in /Users/amit/.local/share/virtualenvs/msticpy-QsK82nVI/lib/python3.10/site-packages (from ipython>=7.23.1->msticpy) (5.1.1)\n",
      "Requirement already satisfied: pexpect>4.3 in /Users/amit/.local/share/virtualenvs/msticpy-QsK82nVI/lib/python3.10/site-packages (from ipython>=7.23.1->msticpy) (4.8.0)\n",
      "Requirement already satisfied: ipykernel>=4.5.1 in /Users/amit/.local/share/virtualenvs/msticpy-QsK82nVI/lib/python3.10/site-packages (from ipywidgets>=7.4.2->msticpy) (6.15.1)\n",
      "Requirement already satisfied: ipython-genutils~=0.2.0 in /Users/amit/.local/share/virtualenvs/msticpy-QsK82nVI/lib/python3.10/site-packages (from ipywidgets>=7.4.2->msticpy) (0.2.0)\n",
      "Requirement already satisfied: widgetsnbextension~=3.6.0 in /Users/amit/.local/share/virtualenvs/msticpy-QsK82nVI/lib/python3.10/site-packages (from ipywidgets>=7.4.2->msticpy) (3.6.1)\n",
      "Requirement already satisfied: jupyterlab-widgets>=1.0.0 in /Users/amit/.local/share/virtualenvs/msticpy-QsK82nVI/lib/python3.10/site-packages (from ipywidgets>=7.4.2->msticpy) (1.1.1)\n",
      "Requirement already satisfied: pyperclip>=1.7.0 in /Users/amit/.local/share/virtualenvs/msticpy-QsK82nVI/lib/python3.10/site-packages (from KqlmagicCustom[auth_code_clipboard,jupyter-basic]>=0.1.114->msticpy) (1.8.2)\n",
      "Requirement already satisfied: prettytable>=0.7.2 in /Users/amit/.local/share/virtualenvs/msticpy-QsK82nVI/lib/python3.10/site-packages (from KqlmagicCustom[auth_code_clipboard,jupyter-basic]>=0.1.114->msticpy) (3.3.0)\n",
      "Requirement already satisfied: pyparsing>=2.2.1 in /Users/amit/.local/share/virtualenvs/msticpy-QsK82nVI/lib/python3.10/site-packages (from matplotlib>=3.0.0->msticpy) (3.0.9)\n",
      "Requirement already satisfied: fonttools>=4.22.0 in /Users/amit/.local/share/virtualenvs/msticpy-QsK82nVI/lib/python3.10/site-packages (from matplotlib>=3.0.0->msticpy) (4.34.4)\n",
      "Requirement already satisfied: cycler>=0.10 in /Users/amit/.local/share/virtualenvs/msticpy-QsK82nVI/lib/python3.10/site-packages (from matplotlib>=3.0.0->msticpy) (0.11.0)\n",
      "Requirement already satisfied: kiwisolver>=1.0.1 in /Users/amit/.local/share/virtualenvs/msticpy-QsK82nVI/lib/python3.10/site-packages (from matplotlib>=3.0.0->msticpy) (1.4.4)\n",
      "Requirement already satisfied: PyJWT[crypto]<3,>=1.0.0 in /Users/amit/.local/share/virtualenvs/msticpy-QsK82nVI/lib/python3.10/site-packages (from msal>=1.12.0->msticpy) (2.4.0)\n",
      "Requirement already satisfied: portalocker<3,>=1.0 in /Users/amit/.local/share/virtualenvs/msticpy-QsK82nVI/lib/python3.10/site-packages (from msal-extensions>=0.3.0->msticpy) (2.5.1)\n",
      "Requirement already satisfied: requests-oauthlib>=0.5.0 in /Users/amit/.local/share/virtualenvs/msticpy-QsK82nVI/lib/python3.10/site-packages (from msrest>=0.6.0->msticpy) (1.3.1)\n",
      "Requirement already satisfied: isodate>=0.6.0 in /Users/amit/.local/share/virtualenvs/msticpy-QsK82nVI/lib/python3.10/site-packages (from msrest>=0.6.0->msticpy) (0.6.1)\n",
      "Requirement already satisfied: adal<2.0.0,>=0.6.0 in /Users/amit/.local/share/virtualenvs/msticpy-QsK82nVI/lib/python3.10/site-packages (from msrestazure>=0.6.0->msticpy) (1.2.7)\n",
      "Requirement already satisfied: idna in /Users/amit/.local/share/virtualenvs/msticpy-QsK82nVI/lib/python3.10/site-packages (from tldextract>=2.2.2->msticpy) (3.3)\n",
      "Requirement already satisfied: requests-file>=1.4 in /Users/amit/.local/share/virtualenvs/msticpy-QsK82nVI/lib/python3.10/site-packages (from tldextract>=2.2.2->msticpy) (1.5.1)\n",
      "Requirement already satisfied: filelock>=3.0.8 in /Users/amit/.local/share/virtualenvs/msticpy-QsK82nVI/lib/python3.10/site-packages (from tldextract>=2.2.2->msticpy) (3.8.0)\n",
      "Requirement already satisfied: webencodings in /Users/amit/.local/share/virtualenvs/msticpy-QsK82nVI/lib/python3.10/site-packages (from html5lib->msticpy) (0.5.1)\n",
      "Requirement already satisfied: yarl<2.0,>=1.0 in /Users/amit/.local/share/virtualenvs/msticpy-QsK82nVI/lib/python3.10/site-packages (from aiohttp<4.0.0,>=3.6.2->geoip2>=2.9.0->msticpy) (1.8.1)\n",
      "Requirement already satisfied: frozenlist>=1.1.1 in /Users/amit/.local/share/virtualenvs/msticpy-QsK82nVI/lib/python3.10/site-packages (from aiohttp<4.0.0,>=3.6.2->geoip2>=2.9.0->msticpy) (1.3.1)\n",
      "Requirement already satisfied: async-timeout<5.0,>=4.0.0a3 in /Users/amit/.local/share/virtualenvs/msticpy-QsK82nVI/lib/python3.10/site-packages (from aiohttp<4.0.0,>=3.6.2->geoip2>=2.9.0->msticpy) (4.0.2)\n",
      "Requirement already satisfied: multidict<7.0,>=4.5 in /Users/amit/.local/share/virtualenvs/msticpy-QsK82nVI/lib/python3.10/site-packages (from aiohttp<4.0.0,>=3.6.2->geoip2>=2.9.0->msticpy) (6.0.2)\n",
      "Requirement already satisfied: charset-normalizer<3.0,>=2.0 in /Users/amit/.local/share/virtualenvs/msticpy-QsK82nVI/lib/python3.10/site-packages (from aiohttp<4.0.0,>=3.6.2->geoip2>=2.9.0->msticpy) (2.1.0)\n",
      "Requirement already satisfied: aiosignal>=1.1.2 in /Users/amit/.local/share/virtualenvs/msticpy-QsK82nVI/lib/python3.10/site-packages (from aiohttp<4.0.0,>=3.6.2->geoip2>=2.9.0->msticpy) (1.2.0)\n",
      "Requirement already satisfied: pycparser in /Users/amit/.local/share/virtualenvs/msticpy-QsK82nVI/lib/python3.10/site-packages (from cffi>=1.12->cryptography>=3.1->msticpy) (2.21)\n",
      "Requirement already satisfied: anyio==3.* in /Users/amit/.local/share/virtualenvs/msticpy-QsK82nVI/lib/python3.10/site-packages (from httpcore<0.16.0,>=0.15.0->httpx>=0.21->msticpy) (3.6.1)\n",
      "Requirement already satisfied: h11<0.13,>=0.11 in /Users/amit/.local/share/virtualenvs/msticpy-QsK82nVI/lib/python3.10/site-packages (from httpcore<0.16.0,>=0.15.0->httpx>=0.21->msticpy) (0.12.0)\n",
      "Requirement already satisfied: jupyter-client>=6.1.12 in /Users/amit/.local/share/virtualenvs/msticpy-QsK82nVI/lib/python3.10/site-packages (from ipykernel>=4.5.1->ipywidgets>=7.4.2->msticpy) (7.3.4)\n",
      "Requirement already satisfied: psutil in /Users/amit/.local/share/virtualenvs/msticpy-QsK82nVI/lib/python3.10/site-packages (from ipykernel>=4.5.1->ipywidgets>=7.4.2->msticpy) (5.9.1)\n",
      "Requirement already satisfied: pyzmq>=17 in /Users/amit/.local/share/virtualenvs/msticpy-QsK82nVI/lib/python3.10/site-packages (from ipykernel>=4.5.1->ipywidgets>=7.4.2->msticpy) (23.2.1)\n",
      "Requirement already satisfied: debugpy>=1.0 in /Users/amit/.local/share/virtualenvs/msticpy-QsK82nVI/lib/python3.10/site-packages (from ipykernel>=4.5.1->ipywidgets>=7.4.2->msticpy) (1.6.2)\n",
      "Requirement already satisfied: nest-asyncio in /Users/amit/.local/share/virtualenvs/msticpy-QsK82nVI/lib/python3.10/site-packages (from ipykernel>=4.5.1->ipywidgets>=7.4.2->msticpy) (1.5.5)\n",
      "Requirement already satisfied: parso<0.9.0,>=0.8.0 in /Users/amit/.local/share/virtualenvs/msticpy-QsK82nVI/lib/python3.10/site-packages (from jedi>=0.16->ipython>=7.23.1->msticpy) (0.8.3)\n",
      "Requirement already satisfied: MarkupSafe>=2.0 in /Users/amit/.local/share/virtualenvs/msticpy-QsK82nVI/lib/python3.10/site-packages (from Jinja2>=2.9->bokeh>=1.4.0->msticpy) (2.1.1)\n"
     ]
    },
    {
     "name": "stdout",
     "output_type": "stream",
     "text": [
      "Requirement already satisfied: ptyprocess>=0.5 in /Users/amit/.local/share/virtualenvs/msticpy-QsK82nVI/lib/python3.10/site-packages (from pexpect>4.3->ipython>=7.23.1->msticpy) (0.7.0)\n",
      "Requirement already satisfied: wcwidth in /Users/amit/.local/share/virtualenvs/msticpy-QsK82nVI/lib/python3.10/site-packages (from prettytable>=0.7.2->KqlmagicCustom[auth_code_clipboard,jupyter-basic]>=0.1.114->msticpy) (0.2.5)\n",
      "Requirement already satisfied: oauthlib>=3.0.0 in /Users/amit/.local/share/virtualenvs/msticpy-QsK82nVI/lib/python3.10/site-packages (from requests-oauthlib>=0.5.0->msrest>=0.6.0->msticpy) (3.2.0)\n",
      "Requirement already satisfied: notebook>=4.4.1 in /Users/amit/.local/share/virtualenvs/msticpy-QsK82nVI/lib/python3.10/site-packages (from widgetsnbextension~=3.6.0->ipywidgets>=7.4.2->msticpy) (6.4.12)\n",
      "Requirement already satisfied: pure-eval in /Users/amit/.local/share/virtualenvs/msticpy-QsK82nVI/lib/python3.10/site-packages (from stack-data->ipython>=7.23.1->msticpy) (0.2.2)\n",
      "Requirement already satisfied: asttokens in /Users/amit/.local/share/virtualenvs/msticpy-QsK82nVI/lib/python3.10/site-packages (from stack-data->ipython>=7.23.1->msticpy) (2.0.7)\n",
      "Requirement already satisfied: executing in /Users/amit/.local/share/virtualenvs/msticpy-QsK82nVI/lib/python3.10/site-packages (from stack-data->ipython>=7.23.1->msticpy) (0.9.1)\n",
      "Requirement already satisfied: jupyter-core>=4.9.2 in /Users/amit/.local/share/virtualenvs/msticpy-QsK82nVI/lib/python3.10/site-packages (from jupyter-client>=6.1.12->ipykernel>=4.5.1->ipywidgets>=7.4.2->msticpy) (4.11.1)\n",
      "Requirement already satisfied: entrypoints in /Users/amit/.local/share/virtualenvs/msticpy-QsK82nVI/lib/python3.10/site-packages (from jupyter-client>=6.1.12->ipykernel>=4.5.1->ipywidgets>=7.4.2->msticpy) (0.4)\n",
      "Requirement already satisfied: prometheus-client in /Users/amit/.local/share/virtualenvs/msticpy-QsK82nVI/lib/python3.10/site-packages (from notebook>=4.4.1->widgetsnbextension~=3.6.0->ipywidgets>=7.4.2->msticpy) (0.14.1)\n",
      "Requirement already satisfied: nbconvert>=5 in /Users/amit/.local/share/virtualenvs/msticpy-QsK82nVI/lib/python3.10/site-packages (from notebook>=4.4.1->widgetsnbextension~=3.6.0->ipywidgets>=7.4.2->msticpy) (6.5.3)\n",
      "Requirement already satisfied: Send2Trash>=1.8.0 in /Users/amit/.local/share/virtualenvs/msticpy-QsK82nVI/lib/python3.10/site-packages (from notebook>=4.4.1->widgetsnbextension~=3.6.0->ipywidgets>=7.4.2->msticpy) (1.8.0)\n",
      "Requirement already satisfied: argon2-cffi in /Users/amit/.local/share/virtualenvs/msticpy-QsK82nVI/lib/python3.10/site-packages (from notebook>=4.4.1->widgetsnbextension~=3.6.0->ipywidgets>=7.4.2->msticpy) (21.3.0)\n",
      "Requirement already satisfied: terminado>=0.8.3 in /Users/amit/.local/share/virtualenvs/msticpy-QsK82nVI/lib/python3.10/site-packages (from notebook>=4.4.1->widgetsnbextension~=3.6.0->ipywidgets>=7.4.2->msticpy) (0.15.0)\n",
      "Requirement already satisfied: nbformat in /Users/amit/.local/share/virtualenvs/msticpy-QsK82nVI/lib/python3.10/site-packages (from notebook>=4.4.1->widgetsnbextension~=3.6.0->ipywidgets>=7.4.2->msticpy) (5.4.0)\n",
      "Requirement already satisfied: pandocfilters>=1.4.1 in /Users/amit/.local/share/virtualenvs/msticpy-QsK82nVI/lib/python3.10/site-packages (from nbconvert>=5->notebook>=4.4.1->widgetsnbextension~=3.6.0->ipywidgets>=7.4.2->msticpy) (1.5.0)\n",
      "Requirement already satisfied: tinycss2 in /Users/amit/.local/share/virtualenvs/msticpy-QsK82nVI/lib/python3.10/site-packages (from nbconvert>=5->notebook>=4.4.1->widgetsnbextension~=3.6.0->ipywidgets>=7.4.2->msticpy) (1.1.1)\n",
      "Requirement already satisfied: defusedxml in /Users/amit/.local/share/virtualenvs/msticpy-QsK82nVI/lib/python3.10/site-packages (from nbconvert>=5->notebook>=4.4.1->widgetsnbextension~=3.6.0->ipywidgets>=7.4.2->msticpy) (0.7.1)\n",
      "Requirement already satisfied: beautifulsoup4 in /Users/amit/.local/share/virtualenvs/msticpy-QsK82nVI/lib/python3.10/site-packages (from nbconvert>=5->notebook>=4.4.1->widgetsnbextension~=3.6.0->ipywidgets>=7.4.2->msticpy) (4.11.1)\n",
      "Requirement already satisfied: bleach in /Users/amit/.local/share/virtualenvs/msticpy-QsK82nVI/lib/python3.10/site-packages (from nbconvert>=5->notebook>=4.4.1->widgetsnbextension~=3.6.0->ipywidgets>=7.4.2->msticpy) (5.0.1)\n",
      "Requirement already satisfied: nbclient>=0.5.0 in /Users/amit/.local/share/virtualenvs/msticpy-QsK82nVI/lib/python3.10/site-packages (from nbconvert>=5->notebook>=4.4.1->widgetsnbextension~=3.6.0->ipywidgets>=7.4.2->msticpy) (0.6.6)\n",
      "Requirement already satisfied: jupyterlab-pygments in /Users/amit/.local/share/virtualenvs/msticpy-QsK82nVI/lib/python3.10/site-packages (from nbconvert>=5->notebook>=4.4.1->widgetsnbextension~=3.6.0->ipywidgets>=7.4.2->msticpy) (0.2.2)\n",
      "Requirement already satisfied: mistune<2,>=0.8.1 in /Users/amit/.local/share/virtualenvs/msticpy-QsK82nVI/lib/python3.10/site-packages (from nbconvert>=5->notebook>=4.4.1->widgetsnbextension~=3.6.0->ipywidgets>=7.4.2->msticpy) (0.8.4)\n",
      "Requirement already satisfied: fastjsonschema in /Users/amit/.local/share/virtualenvs/msticpy-QsK82nVI/lib/python3.10/site-packages (from nbformat->notebook>=4.4.1->widgetsnbextension~=3.6.0->ipywidgets>=7.4.2->msticpy) (2.16.1)\n",
      "Requirement already satisfied: jsonschema>=2.6 in /Users/amit/.local/share/virtualenvs/msticpy-QsK82nVI/lib/python3.10/site-packages (from nbformat->notebook>=4.4.1->widgetsnbextension~=3.6.0->ipywidgets>=7.4.2->msticpy) (4.9.1)\n",
      "Requirement already satisfied: argon2-cffi-bindings in /Users/amit/.local/share/virtualenvs/msticpy-QsK82nVI/lib/python3.10/site-packages (from argon2-cffi->notebook>=4.4.1->widgetsnbextension~=3.6.0->ipywidgets>=7.4.2->msticpy) (21.2.0)\n",
      "Requirement already satisfied: pyrsistent!=0.17.0,!=0.17.1,!=0.17.2,>=0.14.0 in /Users/amit/.local/share/virtualenvs/msticpy-QsK82nVI/lib/python3.10/site-packages (from jsonschema>=2.6->nbformat->notebook>=4.4.1->widgetsnbextension~=3.6.0->ipywidgets>=7.4.2->msticpy) (0.18.1)\n",
      "Requirement already satisfied: soupsieve>1.2 in /Users/amit/.local/share/virtualenvs/msticpy-QsK82nVI/lib/python3.10/site-packages (from beautifulsoup4->nbconvert>=5->notebook>=4.4.1->widgetsnbextension~=3.6.0->ipywidgets>=7.4.2->msticpy) (2.3.2.post1)\n",
      "Requirement already satisfied: msticpy[azure] in /Users/amit/.local/share/virtualenvs/msticpy-QsK82nVI/lib/python3.10/site-packages (2.0.0)\n",
      "Requirement already satisfied: python-dateutil>=2.8.1 in /Users/amit/.local/share/virtualenvs/msticpy-QsK82nVI/lib/python3.10/site-packages (from msticpy[azure]) (2.8.2)\n",
      "Requirement already satisfied: tqdm>=4.36.1 in /Users/amit/.local/share/virtualenvs/msticpy-QsK82nVI/lib/python3.10/site-packages (from msticpy[azure]) (4.64.0)\n",
      "Requirement already satisfied: attrs>=18.2.0 in /Users/amit/.local/share/virtualenvs/msticpy-QsK82nVI/lib/python3.10/site-packages (from msticpy[azure]) (22.1.0)\n",
      "Requirement already satisfied: deprecated>=1.2.4 in /Users/amit/.local/share/virtualenvs/msticpy-QsK82nVI/lib/python3.10/site-packages (from msticpy[azure]) (1.2.13)\n",
      "Requirement already satisfied: setuptools>=40.6.3 in /Users/amit/.local/share/virtualenvs/msticpy-QsK82nVI/lib/python3.10/site-packages (from msticpy[azure]) (64.0.3)\n",
      "Requirement already satisfied: dnspython<=2.0.0 in /Users/amit/.local/share/virtualenvs/msticpy-QsK82nVI/lib/python3.10/site-packages (from msticpy[azure]) (2.0.0)\n",
      "Requirement already satisfied: bokeh>=1.4.0 in /Users/amit/.local/share/virtualenvs/msticpy-QsK82nVI/lib/python3.10/site-packages (from msticpy[azure]) (2.4.3)\n",
      "Requirement already satisfied: msal-extensions>=0.3.0 in /Users/amit/.local/share/virtualenvs/msticpy-QsK82nVI/lib/python3.10/site-packages (from msticpy[azure]) (1.0.0)\n",
      "Requirement already satisfied: numpy>=1.15.4 in /Users/amit/.local/share/virtualenvs/msticpy-QsK82nVI/lib/python3.10/site-packages (from msticpy[azure]) (1.23.1)\n",
      "Requirement already satisfied: msrestazure>=0.6.0 in /Users/amit/.local/share/virtualenvs/msticpy-QsK82nVI/lib/python3.10/site-packages (from msticpy[azure]) (0.6.4)\n",
      "Requirement already satisfied: azure-identity>=1.10.0 in /Users/amit/.local/share/virtualenvs/msticpy-QsK82nVI/lib/python3.10/site-packages (from msticpy[azure]) (1.10.0)\n",
      "Requirement already satisfied: tldextract>=2.2.2 in /Users/amit/.local/share/virtualenvs/msticpy-QsK82nVI/lib/python3.10/site-packages (from msticpy[azure]) (3.3.1)\n",
      "Requirement already satisfied: matplotlib>=3.0.0 in /Users/amit/.local/share/virtualenvs/msticpy-QsK82nVI/lib/python3.10/site-packages (from msticpy[azure]) (3.5.3)\n",
      "Requirement already satisfied: KqlmagicCustom[auth_code_clipboard,jupyter-basic]>=0.1.114 in /Users/amit/.local/share/virtualenvs/msticpy-QsK82nVI/lib/python3.10/site-packages (from msticpy[azure]) (0.1.114.post21)\n",
      "Requirement already satisfied: typing-extensions>=4.2.0 in /Users/amit/.local/share/virtualenvs/msticpy-QsK82nVI/lib/python3.10/site-packages (from msticpy[azure]) (4.3.0)\n",
      "Requirement already satisfied: geoip2>=2.9.0 in /Users/amit/.local/share/virtualenvs/msticpy-QsK82nVI/lib/python3.10/site-packages (from msticpy[azure]) (4.6.0)\n",
      "Requirement already satisfied: urllib3>=1.23 in /Users/amit/.local/share/virtualenvs/msticpy-QsK82nVI/lib/python3.10/site-packages (from msticpy[azure]) (1.26.11)\n",
      "Requirement already satisfied: pygments>=2.0.0 in /Users/amit/.local/share/virtualenvs/msticpy-QsK82nVI/lib/python3.10/site-packages (from msticpy[azure]) (2.12.0)\n",
      "Requirement already satisfied: pandas>=1.4.0 in /Users/amit/.local/share/virtualenvs/msticpy-QsK82nVI/lib/python3.10/site-packages (from msticpy[azure]) (1.4.3)\n"
     ]
    },
    {
     "name": "stdout",
     "output_type": "stream",
     "text": [
      "Requirement already satisfied: azure-common>=1.1.18 in /Users/amit/.local/share/virtualenvs/msticpy-QsK82nVI/lib/python3.10/site-packages (from msticpy[azure]) (1.1.28)\n",
      "Requirement already satisfied: pygeohash>=1.2.0 in /Users/amit/.local/share/virtualenvs/msticpy-QsK82nVI/lib/python3.10/site-packages (from msticpy[azure]) (1.2.0)\n",
      "Requirement already satisfied: lxml>=4.6.3 in /Users/amit/.local/share/virtualenvs/msticpy-QsK82nVI/lib/python3.10/site-packages (from msticpy[azure]) (4.9.1)\n",
      "Requirement already satisfied: ipwhois>=1.1.0 in /Users/amit/.local/share/virtualenvs/msticpy-QsK82nVI/lib/python3.10/site-packages (from msticpy[azure]) (1.2.0)\n",
      "Requirement already satisfied: ipython>=7.23.1 in /Users/amit/.local/share/virtualenvs/msticpy-QsK82nVI/lib/python3.10/site-packages (from msticpy[azure]) (8.4.0)\n",
      "Requirement already satisfied: cryptography>=3.1 in /Users/amit/.local/share/virtualenvs/msticpy-QsK82nVI/lib/python3.10/site-packages (from msticpy[azure]) (37.0.4)\n",
      "Requirement already satisfied: ipywidgets>=7.4.2 in /Users/amit/.local/share/virtualenvs/msticpy-QsK82nVI/lib/python3.10/site-packages (from msticpy[azure]) (7.7.1)\n",
      "Requirement already satisfied: pytz>=2019.2 in /Users/amit/.local/share/virtualenvs/msticpy-QsK82nVI/lib/python3.10/site-packages (from msticpy[azure]) (2022.2.1)\n",
      "Requirement already satisfied: networkx>=2.2 in /Users/amit/.local/share/virtualenvs/msticpy-QsK82nVI/lib/python3.10/site-packages (from msticpy[azure]) (2.8.5)\n",
      "Requirement already satisfied: folium>=0.9.0 in /Users/amit/.local/share/virtualenvs/msticpy-QsK82nVI/lib/python3.10/site-packages (from msticpy[azure]) (0.12.1.post1)\n",
      "Requirement already satisfied: html5lib in /Users/amit/.local/share/virtualenvs/msticpy-QsK82nVI/lib/python3.10/site-packages (from msticpy[azure]) (1.1)\n",
      "Requirement already satisfied: msrest>=0.6.0 in /Users/amit/.local/share/virtualenvs/msticpy-QsK82nVI/lib/python3.10/site-packages (from msticpy[azure]) (0.7.1)\n",
      "Requirement already satisfied: azure-core>=1.2.2 in /Users/amit/.local/share/virtualenvs/msticpy-QsK82nVI/lib/python3.10/site-packages (from msticpy[azure]) (1.25.0)\n",
      "Requirement already satisfied: pyyaml>=3.13 in /Users/amit/.local/share/virtualenvs/msticpy-QsK82nVI/lib/python3.10/site-packages (from msticpy[azure]) (6.0)\n",
      "Requirement already satisfied: azure-mgmt-subscription>=1.0.0 in /Users/amit/.local/share/virtualenvs/msticpy-QsK82nVI/lib/python3.10/site-packages (from msticpy[azure]) (3.0.0)\n",
      "Requirement already satisfied: httpx>=0.21 in /Users/amit/.local/share/virtualenvs/msticpy-QsK82nVI/lib/python3.10/site-packages (from msticpy[azure]) (0.23.0)\n",
      "Requirement already satisfied: msal>=1.12.0 in /Users/amit/.local/share/virtualenvs/msticpy-QsK82nVI/lib/python3.10/site-packages (from msticpy[azure]) (1.18.0)\n",
      "Collecting azure-mgmt-compute>=4.6.2\n",
      "  Downloading azure_mgmt_compute-27.2.0-py3-none-any.whl (5.7 MB)\n",
      "\u001b[2K     \u001b[90m━━━━━━━━━━━━━━━━━━━━━━━━━━━━━━━━━━━━━━━━\u001b[0m \u001b[32m5.7/5.7 MB\u001b[0m \u001b[31m9.3 MB/s\u001b[0m eta \u001b[36m0:00:00\u001b[0m:00:01\u001b[0m00:01\u001b[0m\n",
      "\u001b[?25hCollecting azure-mgmt-keyvault>=2.0.0\n",
      "  Downloading azure_mgmt_keyvault-10.1.0-py3-none-any.whl (605 kB)\n",
      "\u001b[2K     \u001b[90m━━━━━━━━━━━━━━━━━━━━━━━━━━━━━━━━━━━━━━━\u001b[0m \u001b[32m605.9/605.9 kB\u001b[0m \u001b[31m6.8 MB/s\u001b[0m eta \u001b[36m0:00:00\u001b[0m00:01\u001b[0m00:01\u001b[0m\n",
      "\u001b[?25hRequirement already satisfied: azure-mgmt-network>=2.7.0 in /Users/amit/.local/share/virtualenvs/msticpy-QsK82nVI/lib/python3.10/site-packages (from msticpy[azure]) (21.0.0)\n",
      "Collecting azure-mgmt-resourcegraph>=8.0.0\n",
      "  Downloading azure_mgmt_resourcegraph-8.0.0-py2.py3-none-any.whl (27 kB)\n",
      "Collecting azure-storage-blob>=12.5.0\n",
      "  Downloading azure_storage_blob-12.13.1-py3-none-any.whl (377 kB)\n",
      "\u001b[2K     \u001b[90m━━━━━━━━━━━━━━━━━━━━━━━━━━━━━━━━━━━━━━━\u001b[0m \u001b[32m377.4/377.4 kB\u001b[0m \u001b[31m6.4 MB/s\u001b[0m eta \u001b[36m0:00:00\u001b[0m00:01\u001b[0m\n",
      "\u001b[?25hRequirement already satisfied: azure-mgmt-resource>=16.1.0 in /Users/amit/.local/share/virtualenvs/msticpy-QsK82nVI/lib/python3.10/site-packages (from msticpy[azure]) (21.1.0)\n",
      "Collecting azure-keyvault-secrets>=4.0.0\n",
      "  Downloading azure_keyvault_secrets-4.5.1-py3-none-any.whl (290 kB)\n",
      "\u001b[2K     \u001b[90m━━━━━━━━━━━━━━━━━━━━━━━━━━━━━━━━━━━━━━━\u001b[0m \u001b[32m290.6/290.6 kB\u001b[0m \u001b[31m8.9 MB/s\u001b[0m eta \u001b[36m0:00:00\u001b[0m\n",
      "\u001b[?25hCollecting keyring>=13.2.1\n",
      "  Downloading keyring-23.8.2-py3-none-any.whl (34 kB)\n",
      "Collecting azure-mgmt-monitor>=2.0.0\n",
      "  Downloading azure_mgmt_monitor-4.0.1-py3-none-any.whl (978 kB)\n",
      "\u001b[2K     \u001b[90m━━━━━━━━━━━━━━━━━━━━━━━━━━━━━━━━━━━━━━━\u001b[0m \u001b[32m978.2/978.2 kB\u001b[0m \u001b[31m8.7 MB/s\u001b[0m eta \u001b[36m0:00:00\u001b[0ma \u001b[36m0:00:01\u001b[0m\n",
      "\u001b[?25hRequirement already satisfied: azure-mgmt-core>=1.2.1 in /Users/amit/.local/share/virtualenvs/msticpy-QsK82nVI/lib/python3.10/site-packages (from msticpy[azure]) (1.3.2)\n",
      "Requirement already satisfied: requests>=2.18.4 in /Users/amit/.local/share/virtualenvs/msticpy-QsK82nVI/lib/python3.10/site-packages (from azure-core>=1.2.2->msticpy[azure]) (2.28.1)\n",
      "Requirement already satisfied: six>=1.11.0 in /Users/amit/.local/share/virtualenvs/msticpy-QsK82nVI/lib/python3.10/site-packages (from azure-core>=1.2.2->msticpy[azure]) (1.16.0)\n",
      "Requirement already satisfied: packaging>=16.8 in /Users/amit/.local/share/virtualenvs/msticpy-QsK82nVI/lib/python3.10/site-packages (from bokeh>=1.4.0->msticpy[azure]) (21.3)\n",
      "Requirement already satisfied: tornado>=5.1 in /Users/amit/.local/share/virtualenvs/msticpy-QsK82nVI/lib/python3.10/site-packages (from bokeh>=1.4.0->msticpy[azure]) (6.2)\n",
      "Requirement already satisfied: pillow>=7.1.0 in /Users/amit/.local/share/virtualenvs/msticpy-QsK82nVI/lib/python3.10/site-packages (from bokeh>=1.4.0->msticpy[azure]) (9.2.0)\n",
      "Requirement already satisfied: Jinja2>=2.9 in /Users/amit/.local/share/virtualenvs/msticpy-QsK82nVI/lib/python3.10/site-packages (from bokeh>=1.4.0->msticpy[azure]) (3.1.2)\n",
      "Requirement already satisfied: cffi>=1.12 in /Users/amit/.local/share/virtualenvs/msticpy-QsK82nVI/lib/python3.10/site-packages (from cryptography>=3.1->msticpy[azure]) (1.15.1)\n",
      "Requirement already satisfied: wrapt<2,>=1.10 in /Users/amit/.local/share/virtualenvs/msticpy-QsK82nVI/lib/python3.10/site-packages (from deprecated>=1.2.4->msticpy[azure]) (1.14.1)\n",
      "Requirement already satisfied: branca>=0.3.0 in /Users/amit/.local/share/virtualenvs/msticpy-QsK82nVI/lib/python3.10/site-packages (from folium>=0.9.0->msticpy[azure]) (0.5.0)\n",
      "Requirement already satisfied: maxminddb<3.0.0,>=2.2.0 in /Users/amit/.local/share/virtualenvs/msticpy-QsK82nVI/lib/python3.10/site-packages (from geoip2>=2.9.0->msticpy[azure]) (2.2.0)\n",
      "Requirement already satisfied: aiohttp<4.0.0,>=3.6.2 in /Users/amit/.local/share/virtualenvs/msticpy-QsK82nVI/lib/python3.10/site-packages (from geoip2>=2.9.0->msticpy[azure]) (3.8.1)\n",
      "Requirement already satisfied: sniffio in /Users/amit/.local/share/virtualenvs/msticpy-QsK82nVI/lib/python3.10/site-packages (from httpx>=0.21->msticpy[azure]) (1.2.0)\n",
      "Requirement already satisfied: certifi in /Users/amit/.local/share/virtualenvs/msticpy-QsK82nVI/lib/python3.10/site-packages (from httpx>=0.21->msticpy[azure]) (2022.6.15)\n",
      "Requirement already satisfied: rfc3986[idna2008]<2,>=1.3 in /Users/amit/.local/share/virtualenvs/msticpy-QsK82nVI/lib/python3.10/site-packages (from httpx>=0.21->msticpy[azure]) (1.5.0)\n",
      "Requirement already satisfied: httpcore<0.16.0,>=0.15.0 in /Users/amit/.local/share/virtualenvs/msticpy-QsK82nVI/lib/python3.10/site-packages (from httpx>=0.21->msticpy[azure]) (0.15.0)\n",
      "Requirement already satisfied: backcall in /Users/amit/.local/share/virtualenvs/msticpy-QsK82nVI/lib/python3.10/site-packages (from ipython>=7.23.1->msticpy[azure]) (0.2.0)\n",
      "Requirement already satisfied: appnope in /Users/amit/.local/share/virtualenvs/msticpy-QsK82nVI/lib/python3.10/site-packages (from ipython>=7.23.1->msticpy[azure]) (0.1.3)\n",
      "Requirement already satisfied: prompt-toolkit!=3.0.0,!=3.0.1,<3.1.0,>=2.0.0 in /Users/amit/.local/share/virtualenvs/msticpy-QsK82nVI/lib/python3.10/site-packages (from ipython>=7.23.1->msticpy[azure]) (3.0.30)\n",
      "Requirement already satisfied: traitlets>=5 in /Users/amit/.local/share/virtualenvs/msticpy-QsK82nVI/lib/python3.10/site-packages (from ipython>=7.23.1->msticpy[azure]) (5.3.0)\n",
      "Requirement already satisfied: pickleshare in /Users/amit/.local/share/virtualenvs/msticpy-QsK82nVI/lib/python3.10/site-packages (from ipython>=7.23.1->msticpy[azure]) (0.7.5)\n",
      "Requirement already satisfied: pexpect>4.3 in /Users/amit/.local/share/virtualenvs/msticpy-QsK82nVI/lib/python3.10/site-packages (from ipython>=7.23.1->msticpy[azure]) (4.8.0)\n",
      "Requirement already satisfied: jedi>=0.16 in /Users/amit/.local/share/virtualenvs/msticpy-QsK82nVI/lib/python3.10/site-packages (from ipython>=7.23.1->msticpy[azure]) (0.18.1)\n",
      "Requirement already satisfied: matplotlib-inline in /Users/amit/.local/share/virtualenvs/msticpy-QsK82nVI/lib/python3.10/site-packages (from ipython>=7.23.1->msticpy[azure]) (0.1.3)\n",
      "Requirement already satisfied: decorator in /Users/amit/.local/share/virtualenvs/msticpy-QsK82nVI/lib/python3.10/site-packages (from ipython>=7.23.1->msticpy[azure]) (5.1.1)\n",
      "Requirement already satisfied: stack-data in /Users/amit/.local/share/virtualenvs/msticpy-QsK82nVI/lib/python3.10/site-packages (from ipython>=7.23.1->msticpy[azure]) (0.3.0)\n"
     ]
    },
    {
     "name": "stdout",
     "output_type": "stream",
     "text": [
      "Requirement already satisfied: jupyterlab-widgets>=1.0.0 in /Users/amit/.local/share/virtualenvs/msticpy-QsK82nVI/lib/python3.10/site-packages (from ipywidgets>=7.4.2->msticpy[azure]) (1.1.1)\n",
      "Requirement already satisfied: widgetsnbextension~=3.6.0 in /Users/amit/.local/share/virtualenvs/msticpy-QsK82nVI/lib/python3.10/site-packages (from ipywidgets>=7.4.2->msticpy[azure]) (3.6.1)\n",
      "Requirement already satisfied: ipython-genutils~=0.2.0 in /Users/amit/.local/share/virtualenvs/msticpy-QsK82nVI/lib/python3.10/site-packages (from ipywidgets>=7.4.2->msticpy[azure]) (0.2.0)\n",
      "Requirement already satisfied: ipykernel>=4.5.1 in /Users/amit/.local/share/virtualenvs/msticpy-QsK82nVI/lib/python3.10/site-packages (from ipywidgets>=7.4.2->msticpy[azure]) (6.15.1)\n",
      "Requirement already satisfied: pyperclip>=1.7.0 in /Users/amit/.local/share/virtualenvs/msticpy-QsK82nVI/lib/python3.10/site-packages (from KqlmagicCustom[auth_code_clipboard,jupyter-basic]>=0.1.114->msticpy[azure]) (1.8.2)\n",
      "Requirement already satisfied: prettytable>=0.7.2 in /Users/amit/.local/share/virtualenvs/msticpy-QsK82nVI/lib/python3.10/site-packages (from KqlmagicCustom[auth_code_clipboard,jupyter-basic]>=0.1.114->msticpy[azure]) (3.3.0)\n",
      "Requirement already satisfied: kiwisolver>=1.0.1 in /Users/amit/.local/share/virtualenvs/msticpy-QsK82nVI/lib/python3.10/site-packages (from matplotlib>=3.0.0->msticpy[azure]) (1.4.4)\n",
      "Requirement already satisfied: pyparsing>=2.2.1 in /Users/amit/.local/share/virtualenvs/msticpy-QsK82nVI/lib/python3.10/site-packages (from matplotlib>=3.0.0->msticpy[azure]) (3.0.9)\n",
      "Requirement already satisfied: cycler>=0.10 in /Users/amit/.local/share/virtualenvs/msticpy-QsK82nVI/lib/python3.10/site-packages (from matplotlib>=3.0.0->msticpy[azure]) (0.11.0)\n",
      "Requirement already satisfied: fonttools>=4.22.0 in /Users/amit/.local/share/virtualenvs/msticpy-QsK82nVI/lib/python3.10/site-packages (from matplotlib>=3.0.0->msticpy[azure]) (4.34.4)\n",
      "Requirement already satisfied: PyJWT[crypto]<3,>=1.0.0 in /Users/amit/.local/share/virtualenvs/msticpy-QsK82nVI/lib/python3.10/site-packages (from msal>=1.12.0->msticpy[azure]) (2.4.0)\n",
      "Requirement already satisfied: portalocker<3,>=1.0 in /Users/amit/.local/share/virtualenvs/msticpy-QsK82nVI/lib/python3.10/site-packages (from msal-extensions>=0.3.0->msticpy[azure]) (2.5.1)\n",
      "Requirement already satisfied: isodate>=0.6.0 in /Users/amit/.local/share/virtualenvs/msticpy-QsK82nVI/lib/python3.10/site-packages (from msrest>=0.6.0->msticpy[azure]) (0.6.1)\n",
      "Requirement already satisfied: requests-oauthlib>=0.5.0 in /Users/amit/.local/share/virtualenvs/msticpy-QsK82nVI/lib/python3.10/site-packages (from msrest>=0.6.0->msticpy[azure]) (1.3.1)\n",
      "Requirement already satisfied: adal<2.0.0,>=0.6.0 in /Users/amit/.local/share/virtualenvs/msticpy-QsK82nVI/lib/python3.10/site-packages (from msrestazure>=0.6.0->msticpy[azure]) (1.2.7)\n",
      "Requirement already satisfied: idna in /Users/amit/.local/share/virtualenvs/msticpy-QsK82nVI/lib/python3.10/site-packages (from tldextract>=2.2.2->msticpy[azure]) (3.3)\n",
      "Requirement already satisfied: filelock>=3.0.8 in /Users/amit/.local/share/virtualenvs/msticpy-QsK82nVI/lib/python3.10/site-packages (from tldextract>=2.2.2->msticpy[azure]) (3.8.0)\n",
      "Requirement already satisfied: requests-file>=1.4 in /Users/amit/.local/share/virtualenvs/msticpy-QsK82nVI/lib/python3.10/site-packages (from tldextract>=2.2.2->msticpy[azure]) (1.5.1)\n",
      "Requirement already satisfied: webencodings in /Users/amit/.local/share/virtualenvs/msticpy-QsK82nVI/lib/python3.10/site-packages (from html5lib->msticpy[azure]) (0.5.1)\n",
      "Requirement already satisfied: aiosignal>=1.1.2 in /Users/amit/.local/share/virtualenvs/msticpy-QsK82nVI/lib/python3.10/site-packages (from aiohttp<4.0.0,>=3.6.2->geoip2>=2.9.0->msticpy[azure]) (1.2.0)\n",
      "Requirement already satisfied: yarl<2.0,>=1.0 in /Users/amit/.local/share/virtualenvs/msticpy-QsK82nVI/lib/python3.10/site-packages (from aiohttp<4.0.0,>=3.6.2->geoip2>=2.9.0->msticpy[azure]) (1.8.1)\n",
      "Requirement already satisfied: charset-normalizer<3.0,>=2.0 in /Users/amit/.local/share/virtualenvs/msticpy-QsK82nVI/lib/python3.10/site-packages (from aiohttp<4.0.0,>=3.6.2->geoip2>=2.9.0->msticpy[azure]) (2.1.0)\n",
      "Requirement already satisfied: async-timeout<5.0,>=4.0.0a3 in /Users/amit/.local/share/virtualenvs/msticpy-QsK82nVI/lib/python3.10/site-packages (from aiohttp<4.0.0,>=3.6.2->geoip2>=2.9.0->msticpy[azure]) (4.0.2)\n",
      "Requirement already satisfied: frozenlist>=1.1.1 in /Users/amit/.local/share/virtualenvs/msticpy-QsK82nVI/lib/python3.10/site-packages (from aiohttp<4.0.0,>=3.6.2->geoip2>=2.9.0->msticpy[azure]) (1.3.1)\n",
      "Requirement already satisfied: multidict<7.0,>=4.5 in /Users/amit/.local/share/virtualenvs/msticpy-QsK82nVI/lib/python3.10/site-packages (from aiohttp<4.0.0,>=3.6.2->geoip2>=2.9.0->msticpy[azure]) (6.0.2)\n",
      "Requirement already satisfied: pycparser in /Users/amit/.local/share/virtualenvs/msticpy-QsK82nVI/lib/python3.10/site-packages (from cffi>=1.12->cryptography>=3.1->msticpy[azure]) (2.21)\n",
      "Requirement already satisfied: anyio==3.* in /Users/amit/.local/share/virtualenvs/msticpy-QsK82nVI/lib/python3.10/site-packages (from httpcore<0.16.0,>=0.15.0->httpx>=0.21->msticpy[azure]) (3.6.1)\n",
      "Requirement already satisfied: h11<0.13,>=0.11 in /Users/amit/.local/share/virtualenvs/msticpy-QsK82nVI/lib/python3.10/site-packages (from httpcore<0.16.0,>=0.15.0->httpx>=0.21->msticpy[azure]) (0.12.0)\n",
      "Requirement already satisfied: pyzmq>=17 in /Users/amit/.local/share/virtualenvs/msticpy-QsK82nVI/lib/python3.10/site-packages (from ipykernel>=4.5.1->ipywidgets>=7.4.2->msticpy[azure]) (23.2.1)\n",
      "Requirement already satisfied: debugpy>=1.0 in /Users/amit/.local/share/virtualenvs/msticpy-QsK82nVI/lib/python3.10/site-packages (from ipykernel>=4.5.1->ipywidgets>=7.4.2->msticpy[azure]) (1.6.2)\n",
      "Requirement already satisfied: nest-asyncio in /Users/amit/.local/share/virtualenvs/msticpy-QsK82nVI/lib/python3.10/site-packages (from ipykernel>=4.5.1->ipywidgets>=7.4.2->msticpy[azure]) (1.5.5)\n",
      "Requirement already satisfied: psutil in /Users/amit/.local/share/virtualenvs/msticpy-QsK82nVI/lib/python3.10/site-packages (from ipykernel>=4.5.1->ipywidgets>=7.4.2->msticpy[azure]) (5.9.1)\n",
      "Requirement already satisfied: jupyter-client>=6.1.12 in /Users/amit/.local/share/virtualenvs/msticpy-QsK82nVI/lib/python3.10/site-packages (from ipykernel>=4.5.1->ipywidgets>=7.4.2->msticpy[azure]) (7.3.4)\n",
      "Requirement already satisfied: parso<0.9.0,>=0.8.0 in /Users/amit/.local/share/virtualenvs/msticpy-QsK82nVI/lib/python3.10/site-packages (from jedi>=0.16->ipython>=7.23.1->msticpy[azure]) (0.8.3)\n",
      "Requirement already satisfied: MarkupSafe>=2.0 in /Users/amit/.local/share/virtualenvs/msticpy-QsK82nVI/lib/python3.10/site-packages (from Jinja2>=2.9->bokeh>=1.4.0->msticpy[azure]) (2.1.1)\n",
      "Requirement already satisfied: ptyprocess>=0.5 in /Users/amit/.local/share/virtualenvs/msticpy-QsK82nVI/lib/python3.10/site-packages (from pexpect>4.3->ipython>=7.23.1->msticpy[azure]) (0.7.0)\n",
      "Requirement already satisfied: wcwidth in /Users/amit/.local/share/virtualenvs/msticpy-QsK82nVI/lib/python3.10/site-packages (from prettytable>=0.7.2->KqlmagicCustom[auth_code_clipboard,jupyter-basic]>=0.1.114->msticpy[azure]) (0.2.5)\n",
      "Requirement already satisfied: oauthlib>=3.0.0 in /Users/amit/.local/share/virtualenvs/msticpy-QsK82nVI/lib/python3.10/site-packages (from requests-oauthlib>=0.5.0->msrest>=0.6.0->msticpy[azure]) (3.2.0)\n",
      "Requirement already satisfied: notebook>=4.4.1 in /Users/amit/.local/share/virtualenvs/msticpy-QsK82nVI/lib/python3.10/site-packages (from widgetsnbextension~=3.6.0->ipywidgets>=7.4.2->msticpy[azure]) (6.4.12)\n",
      "Requirement already satisfied: asttokens in /Users/amit/.local/share/virtualenvs/msticpy-QsK82nVI/lib/python3.10/site-packages (from stack-data->ipython>=7.23.1->msticpy[azure]) (2.0.7)\n",
      "Requirement already satisfied: pure-eval in /Users/amit/.local/share/virtualenvs/msticpy-QsK82nVI/lib/python3.10/site-packages (from stack-data->ipython>=7.23.1->msticpy[azure]) (0.2.2)\n",
      "Requirement already satisfied: executing in /Users/amit/.local/share/virtualenvs/msticpy-QsK82nVI/lib/python3.10/site-packages (from stack-data->ipython>=7.23.1->msticpy[azure]) (0.9.1)\n",
      "Requirement already satisfied: entrypoints in /Users/amit/.local/share/virtualenvs/msticpy-QsK82nVI/lib/python3.10/site-packages (from jupyter-client>=6.1.12->ipykernel>=4.5.1->ipywidgets>=7.4.2->msticpy[azure]) (0.4)\n",
      "Requirement already satisfied: jupyter-core>=4.9.2 in /Users/amit/.local/share/virtualenvs/msticpy-QsK82nVI/lib/python3.10/site-packages (from jupyter-client>=6.1.12->ipykernel>=4.5.1->ipywidgets>=7.4.2->msticpy[azure]) (4.11.1)\n"
     ]
    },
    {
     "name": "stdout",
     "output_type": "stream",
     "text": [
      "Requirement already satisfied: prometheus-client in /Users/amit/.local/share/virtualenvs/msticpy-QsK82nVI/lib/python3.10/site-packages (from notebook>=4.4.1->widgetsnbextension~=3.6.0->ipywidgets>=7.4.2->msticpy[azure]) (0.14.1)\n",
      "Requirement already satisfied: nbformat in /Users/amit/.local/share/virtualenvs/msticpy-QsK82nVI/lib/python3.10/site-packages (from notebook>=4.4.1->widgetsnbextension~=3.6.0->ipywidgets>=7.4.2->msticpy[azure]) (5.4.0)\n",
      "Requirement already satisfied: terminado>=0.8.3 in /Users/amit/.local/share/virtualenvs/msticpy-QsK82nVI/lib/python3.10/site-packages (from notebook>=4.4.1->widgetsnbextension~=3.6.0->ipywidgets>=7.4.2->msticpy[azure]) (0.15.0)\n",
      "Requirement already satisfied: nbconvert>=5 in /Users/amit/.local/share/virtualenvs/msticpy-QsK82nVI/lib/python3.10/site-packages (from notebook>=4.4.1->widgetsnbextension~=3.6.0->ipywidgets>=7.4.2->msticpy[azure]) (6.5.3)\n",
      "Requirement already satisfied: Send2Trash>=1.8.0 in /Users/amit/.local/share/virtualenvs/msticpy-QsK82nVI/lib/python3.10/site-packages (from notebook>=4.4.1->widgetsnbextension~=3.6.0->ipywidgets>=7.4.2->msticpy[azure]) (1.8.0)\n",
      "Requirement already satisfied: argon2-cffi in /Users/amit/.local/share/virtualenvs/msticpy-QsK82nVI/lib/python3.10/site-packages (from notebook>=4.4.1->widgetsnbextension~=3.6.0->ipywidgets>=7.4.2->msticpy[azure]) (21.3.0)\n",
      "Requirement already satisfied: beautifulsoup4 in /Users/amit/.local/share/virtualenvs/msticpy-QsK82nVI/lib/python3.10/site-packages (from nbconvert>=5->notebook>=4.4.1->widgetsnbextension~=3.6.0->ipywidgets>=7.4.2->msticpy[azure]) (4.11.1)\n",
      "Requirement already satisfied: nbclient>=0.5.0 in /Users/amit/.local/share/virtualenvs/msticpy-QsK82nVI/lib/python3.10/site-packages (from nbconvert>=5->notebook>=4.4.1->widgetsnbextension~=3.6.0->ipywidgets>=7.4.2->msticpy[azure]) (0.6.6)\n",
      "Requirement already satisfied: pandocfilters>=1.4.1 in /Users/amit/.local/share/virtualenvs/msticpy-QsK82nVI/lib/python3.10/site-packages (from nbconvert>=5->notebook>=4.4.1->widgetsnbextension~=3.6.0->ipywidgets>=7.4.2->msticpy[azure]) (1.5.0)\n",
      "Requirement already satisfied: bleach in /Users/amit/.local/share/virtualenvs/msticpy-QsK82nVI/lib/python3.10/site-packages (from nbconvert>=5->notebook>=4.4.1->widgetsnbextension~=3.6.0->ipywidgets>=7.4.2->msticpy[azure]) (5.0.1)\n",
      "Requirement already satisfied: jupyterlab-pygments in /Users/amit/.local/share/virtualenvs/msticpy-QsK82nVI/lib/python3.10/site-packages (from nbconvert>=5->notebook>=4.4.1->widgetsnbextension~=3.6.0->ipywidgets>=7.4.2->msticpy[azure]) (0.2.2)\n",
      "Requirement already satisfied: tinycss2 in /Users/amit/.local/share/virtualenvs/msticpy-QsK82nVI/lib/python3.10/site-packages (from nbconvert>=5->notebook>=4.4.1->widgetsnbextension~=3.6.0->ipywidgets>=7.4.2->msticpy[azure]) (1.1.1)\n",
      "Requirement already satisfied: defusedxml in /Users/amit/.local/share/virtualenvs/msticpy-QsK82nVI/lib/python3.10/site-packages (from nbconvert>=5->notebook>=4.4.1->widgetsnbextension~=3.6.0->ipywidgets>=7.4.2->msticpy[azure]) (0.7.1)\n",
      "Requirement already satisfied: mistune<2,>=0.8.1 in /Users/amit/.local/share/virtualenvs/msticpy-QsK82nVI/lib/python3.10/site-packages (from nbconvert>=5->notebook>=4.4.1->widgetsnbextension~=3.6.0->ipywidgets>=7.4.2->msticpy[azure]) (0.8.4)\n",
      "Requirement already satisfied: jsonschema>=2.6 in /Users/amit/.local/share/virtualenvs/msticpy-QsK82nVI/lib/python3.10/site-packages (from nbformat->notebook>=4.4.1->widgetsnbextension~=3.6.0->ipywidgets>=7.4.2->msticpy[azure]) (4.9.1)\n",
      "Requirement already satisfied: fastjsonschema in /Users/amit/.local/share/virtualenvs/msticpy-QsK82nVI/lib/python3.10/site-packages (from nbformat->notebook>=4.4.1->widgetsnbextension~=3.6.0->ipywidgets>=7.4.2->msticpy[azure]) (2.16.1)\n",
      "Requirement already satisfied: argon2-cffi-bindings in /Users/amit/.local/share/virtualenvs/msticpy-QsK82nVI/lib/python3.10/site-packages (from argon2-cffi->notebook>=4.4.1->widgetsnbextension~=3.6.0->ipywidgets>=7.4.2->msticpy[azure]) (21.2.0)\n",
      "Requirement already satisfied: pyrsistent!=0.17.0,!=0.17.1,!=0.17.2,>=0.14.0 in /Users/amit/.local/share/virtualenvs/msticpy-QsK82nVI/lib/python3.10/site-packages (from jsonschema>=2.6->nbformat->notebook>=4.4.1->widgetsnbextension~=3.6.0->ipywidgets>=7.4.2->msticpy[azure]) (0.18.1)\n",
      "Requirement already satisfied: soupsieve>1.2 in /Users/amit/.local/share/virtualenvs/msticpy-QsK82nVI/lib/python3.10/site-packages (from beautifulsoup4->nbconvert>=5->notebook>=4.4.1->widgetsnbextension~=3.6.0->ipywidgets>=7.4.2->msticpy[azure]) (2.3.2.post1)\n",
      "Installing collected packages: keyring, azure-storage-blob, azure-mgmt-resourcegraph, azure-mgmt-monitor, azure-mgmt-keyvault, azure-mgmt-compute, azure-keyvault-secrets\n",
      "Successfully installed azure-keyvault-secrets-4.5.1 azure-mgmt-compute-27.2.0 azure-mgmt-keyvault-10.1.0 azure-mgmt-monitor-4.0.1 azure-mgmt-resourcegraph-8.0.0 azure-storage-blob-12.13.1 keyring-23.8.2\n"
     ]
    }
   ],
   "source": [
    "!pip install msticpy\n",
    "!pip install 'msticpy[azure]'"
   ]
  },
  {
   "cell_type": "code",
   "execution_count": 2,
   "id": "1c2f91a4",
   "metadata": {},
   "outputs": [
    {
     "name": "stdout",
     "output_type": "stream",
     "text": [
      "Requirement already satisfied: requests in /Users/amit/.local/share/virtualenvs/msticpy-QsK82nVI/lib/python3.10/site-packages (2.28.1)\r\n",
      "Requirement already satisfied: certifi>=2017.4.17 in /Users/amit/.local/share/virtualenvs/msticpy-QsK82nVI/lib/python3.10/site-packages (from requests) (2022.6.15)\r\n",
      "Requirement already satisfied: urllib3<1.27,>=1.21.1 in /Users/amit/.local/share/virtualenvs/msticpy-QsK82nVI/lib/python3.10/site-packages (from requests) (1.26.11)\r\n",
      "Requirement already satisfied: idna<4,>=2.5 in /Users/amit/.local/share/virtualenvs/msticpy-QsK82nVI/lib/python3.10/site-packages (from requests) (3.3)\r\n",
      "Requirement already satisfied: charset-normalizer<3,>=2 in /Users/amit/.local/share/virtualenvs/msticpy-QsK82nVI/lib/python3.10/site-packages (from requests) (2.1.0)\r\n"
     ]
    }
   ],
   "source": [
    "!pip install requests"
   ]
  },
  {
   "cell_type": "code",
   "execution_count": 3,
   "id": "ec3d8da8",
   "metadata": {},
   "outputs": [],
   "source": [
    "import pandas as pd"
   ]
  },
  {
   "cell_type": "code",
   "execution_count": 4,
   "id": "6a87e657",
   "metadata": {},
   "outputs": [
    {
     "name": "stdout",
     "output_type": "stream",
     "text": [
      "Package                 Version\r\n",
      "----------------------- --------------\r\n",
      "adal                    1.2.7\r\n",
      "aiohttp                 3.8.1\r\n",
      "aiosignal               1.2.0\r\n",
      "anyio                   3.6.1\r\n",
      "appnope                 0.1.3\r\n",
      "argon2-cffi             21.3.0\r\n",
      "argon2-cffi-bindings    21.2.0\r\n",
      "asttokens               2.0.7\r\n",
      "async-timeout           4.0.2\r\n",
      "attrs                   22.1.0\r\n",
      "azure-common            1.1.28\r\n",
      "azure-core              1.25.0\r\n",
      "azure-identity          1.10.0\r\n",
      "azure-mgmt-core         1.3.2\r\n",
      "azure-mgmt-subscription 3.0.0\r\n",
      "backcall                0.2.0\r\n",
      "beautifulsoup4          4.11.1\r\n",
      "bleach                  5.0.1\r\n",
      "bokeh                   2.4.3\r\n",
      "branca                  0.5.0\r\n",
      "certifi                 2022.6.15\r\n",
      "cffi                    1.15.1\r\n",
      "charset-normalizer      2.1.0\r\n",
      "cryptography            37.0.4\r\n",
      "cycler                  0.11.0\r\n",
      "debugpy                 1.6.2\r\n",
      "decorator               5.1.1\r\n",
      "defusedxml              0.7.1\r\n",
      "Deprecated              1.2.13\r\n",
      "dnspython               2.0.0\r\n",
      "entrypoints             0.4\r\n",
      "executing               0.9.1\r\n",
      "fastjsonschema          2.16.1\r\n",
      "filelock                3.8.0\r\n",
      "folium                  0.12.1.post1\r\n",
      "fonttools               4.34.4\r\n",
      "frozenlist              1.3.1\r\n",
      "geoip2                  4.6.0\r\n",
      "h11                     0.12.0\r\n",
      "html5lib                1.1\r\n",
      "httpcore                0.15.0\r\n",
      "httpx                   0.23.0\r\n",
      "idna                    3.3\r\n",
      "ipwhois                 1.2.0\r\n",
      "ipykernel               6.15.1\r\n",
      "ipython                 8.4.0\r\n",
      "ipython-genutils        0.2.0\r\n",
      "ipywidgets              7.7.1\r\n",
      "isodate                 0.6.1\r\n",
      "jedi                    0.18.1\r\n",
      "Jinja2                  3.1.2\r\n",
      "joblib                  1.1.0\r\n",
      "jsonschema              4.9.1\r\n",
      "jupyter                 1.0.0\r\n",
      "jupyter-client          7.3.4\r\n",
      "jupyter-console         6.4.4\r\n",
      "jupyter-core            4.11.1\r\n",
      "jupyterlab-pygments     0.2.2\r\n",
      "jupyterlab-widgets      1.1.1\r\n",
      "kiwisolver              1.4.4\r\n",
      "KqlmagicCustom          0.1.114.post21\r\n",
      "lxml                    4.9.1\r\n",
      "MarkupSafe              2.1.1\r\n",
      "matplotlib              3.5.3\r\n",
      "matplotlib-inline       0.1.3\r\n",
      "maxminddb               2.2.0\r\n",
      "mistune                 0.8.4\r\n",
      "msal                    1.18.0\r\n",
      "msal-extensions         1.0.0\r\n",
      "msrest                  0.7.1\r\n",
      "msrestazure             0.6.4\r\n",
      "msticpy                 2.0.0\r\n",
      "multidict               6.0.2\r\n",
      "nbclient                0.6.6\r\n",
      "nbconvert               6.5.3\r\n",
      "nbformat                5.4.0\r\n",
      "nest-asyncio            1.5.5\r\n",
      "networkx                2.8.5\r\n",
      "notebook                6.4.12\r\n",
      "numpy                   1.23.1\r\n",
      "oauthlib                3.2.0\r\n",
      "packaging               21.3\r\n",
      "pandas                  1.4.3\r\n",
      "pandocfilters           1.5.0\r\n",
      "parso                   0.8.3\r\n",
      "pexpect                 4.8.0\r\n",
      "pickleshare             0.7.5\r\n",
      "Pillow                  9.2.0\r\n",
      "pip                     22.2.2\r\n",
      "portalocker             2.5.1\r\n",
      "prettytable             3.3.0\r\n",
      "prometheus-client       0.14.1\r\n",
      "prompt-toolkit          3.0.30\r\n",
      "psutil                  5.9.1\r\n",
      "ptyprocess              0.7.0\r\n",
      "pure-eval               0.2.2\r\n",
      "pycparser               2.21\r\n",
      "pygeohash               1.2.0\r\n",
      "Pygments                2.12.0\r\n",
      "PyJWT                   2.4.0\r\n",
      "pyparsing               3.0.9\r\n",
      "pyperclip               1.8.2\r\n",
      "pyrsistent              0.18.1\r\n",
      "python-dateutil         2.8.2\r\n",
      "pytz                    2022.2.1\r\n",
      "PyYAML                  6.0\r\n",
      "pyzmq                   23.2.1\r\n",
      "qtconsole               5.3.1\r\n",
      "QtPy                    2.2.0\r\n",
      "requests                2.28.1\r\n",
      "requests-file           1.5.1\r\n",
      "requests-oauthlib       1.3.1\r\n",
      "rfc3986                 1.5.0\r\n",
      "scikit-learn            1.1.2\r\n",
      "scipy                   1.9.0\r\n",
      "Send2Trash              1.8.0\r\n",
      "setuptools              64.0.3\r\n",
      "six                     1.16.0\r\n",
      "sniffio                 1.2.0\r\n",
      "soupsieve               2.3.2.post1\r\n",
      "stack-data              0.3.0\r\n",
      "terminado               0.15.0\r\n",
      "threadpoolctl           3.1.0\r\n",
      "tinycss2                1.1.1\r\n",
      "tldextract              3.3.1\r\n",
      "tornado                 6.2\r\n",
      "tqdm                    4.64.0\r\n",
      "traitlets               5.3.0\r\n",
      "typing_extensions       4.3.0\r\n",
      "urllib3                 1.26.11\r\n",
      "wcwidth                 0.2.5\r\n",
      "webencodings            0.5.1\r\n",
      "wheel                   0.37.1\r\n",
      "widgetsnbextension      3.6.1\r\n",
      "wrapt                   1.14.1\r\n",
      "yarl                    1.8.1\r\n"
     ]
    }
   ],
   "source": [
    "!pip list"
   ]
  },
  {
   "cell_type": "code",
   "execution_count": 5,
   "id": "a31c3b55",
   "metadata": {},
   "outputs": [
    {
     "name": "stdout",
     "output_type": "stream",
     "text": [
      "Requirement already satisfied: scikit-learn in /Users/amit/.local/share/virtualenvs/msticpy-QsK82nVI/lib/python3.10/site-packages (1.1.2)\n",
      "Requirement already satisfied: scipy>=1.3.2 in /Users/amit/.local/share/virtualenvs/msticpy-QsK82nVI/lib/python3.10/site-packages (from scikit-learn) (1.9.0)\n",
      "Requirement already satisfied: numpy>=1.17.3 in /Users/amit/.local/share/virtualenvs/msticpy-QsK82nVI/lib/python3.10/site-packages (from scikit-learn) (1.23.1)\n",
      "Requirement already satisfied: threadpoolctl>=2.0.0 in /Users/amit/.local/share/virtualenvs/msticpy-QsK82nVI/lib/python3.10/site-packages (from scikit-learn) (3.1.0)\n",
      "Requirement already satisfied: joblib>=1.0.0 in /Users/amit/.local/share/virtualenvs/msticpy-QsK82nVI/lib/python3.10/site-packages (from scikit-learn) (1.1.0)\n",
      "Note: you may need to restart the kernel to use updated packages.\n"
     ]
    }
   ],
   "source": [
    "%pip install scikit-learn"
   ]
  },
  {
   "cell_type": "code",
   "execution_count": 6,
   "id": "35559cb0",
   "metadata": {},
   "outputs": [],
   "source": [
    "import sklearn"
   ]
  },
  {
   "cell_type": "code",
   "execution_count": 18,
   "id": "19ace74a",
   "metadata": {},
   "outputs": [
    {
     "name": "stdout",
     "output_type": "stream",
     "text": [
      "Requirement already satisfied: msticpy in /Users/amit/.local/share/virtualenvs/msticpy-QsK82nVI/lib/python3.10/site-packages (2.0.0)\n",
      "Requirement already satisfied: azure-identity>=1.10.0 in /Users/amit/.local/share/virtualenvs/msticpy-QsK82nVI/lib/python3.10/site-packages (from msticpy) (1.10.0)\n",
      "Requirement already satisfied: setuptools>=40.6.3 in /Users/amit/.local/share/virtualenvs/msticpy-QsK82nVI/lib/python3.10/site-packages (from msticpy) (64.0.3)\n",
      "Requirement already satisfied: cryptography>=3.1 in /Users/amit/.local/share/virtualenvs/msticpy-QsK82nVI/lib/python3.10/site-packages (from msticpy) (37.0.4)\n",
      "Requirement already satisfied: pandas>=1.4.0 in /Users/amit/.local/share/virtualenvs/msticpy-QsK82nVI/lib/python3.10/site-packages (from msticpy) (1.4.3)\n",
      "Requirement already satisfied: ipwhois>=1.1.0 in /Users/amit/.local/share/virtualenvs/msticpy-QsK82nVI/lib/python3.10/site-packages (from msticpy) (1.2.0)\n",
      "Requirement already satisfied: httpx>=0.21 in /Users/amit/.local/share/virtualenvs/msticpy-QsK82nVI/lib/python3.10/site-packages (from msticpy) (0.23.0)\n",
      "Requirement already satisfied: tqdm>=4.36.1 in /Users/amit/.local/share/virtualenvs/msticpy-QsK82nVI/lib/python3.10/site-packages (from msticpy) (4.64.0)\n",
      "Requirement already satisfied: python-dateutil>=2.8.1 in /Users/amit/.local/share/virtualenvs/msticpy-QsK82nVI/lib/python3.10/site-packages (from msticpy) (2.8.2)\n",
      "Requirement already satisfied: folium>=0.9.0 in /Users/amit/.local/share/virtualenvs/msticpy-QsK82nVI/lib/python3.10/site-packages (from msticpy) (0.12.1.post1)\n",
      "Requirement already satisfied: attrs>=18.2.0 in /Users/amit/.local/share/virtualenvs/msticpy-QsK82nVI/lib/python3.10/site-packages (from msticpy) (22.1.0)\n",
      "Requirement already satisfied: matplotlib>=3.0.0 in /Users/amit/.local/share/virtualenvs/msticpy-QsK82nVI/lib/python3.10/site-packages (from msticpy) (3.5.3)\n",
      "Requirement already satisfied: typing-extensions>=4.2.0 in /Users/amit/.local/share/virtualenvs/msticpy-QsK82nVI/lib/python3.10/site-packages (from msticpy) (4.3.0)\n",
      "Requirement already satisfied: msal-extensions>=0.3.0 in /Users/amit/.local/share/virtualenvs/msticpy-QsK82nVI/lib/python3.10/site-packages (from msticpy) (1.0.0)\n",
      "Requirement already satisfied: azure-mgmt-subscription>=1.0.0 in /Users/amit/.local/share/virtualenvs/msticpy-QsK82nVI/lib/python3.10/site-packages (from msticpy) (3.0.0)\n",
      "Requirement already satisfied: networkx>=2.2 in /Users/amit/.local/share/virtualenvs/msticpy-QsK82nVI/lib/python3.10/site-packages (from msticpy) (2.8.5)\n",
      "Requirement already satisfied: pyyaml>=3.13 in /Users/amit/.local/share/virtualenvs/msticpy-QsK82nVI/lib/python3.10/site-packages (from msticpy) (6.0)\n",
      "Requirement already satisfied: msrestazure>=0.6.0 in /Users/amit/.local/share/virtualenvs/msticpy-QsK82nVI/lib/python3.10/site-packages (from msticpy) (0.6.4)\n",
      "Requirement already satisfied: pygeohash>=1.2.0 in /Users/amit/.local/share/virtualenvs/msticpy-QsK82nVI/lib/python3.10/site-packages (from msticpy) (1.2.0)\n",
      "Requirement already satisfied: html5lib in /Users/amit/.local/share/virtualenvs/msticpy-QsK82nVI/lib/python3.10/site-packages (from msticpy) (1.1)\n",
      "Requirement already satisfied: msal>=1.12.0 in /Users/amit/.local/share/virtualenvs/msticpy-QsK82nVI/lib/python3.10/site-packages (from msticpy) (1.18.0)\n",
      "Requirement already satisfied: lxml>=4.6.3 in /Users/amit/.local/share/virtualenvs/msticpy-QsK82nVI/lib/python3.10/site-packages (from msticpy) (4.9.1)\n",
      "Requirement already satisfied: geoip2>=2.9.0 in /Users/amit/.local/share/virtualenvs/msticpy-QsK82nVI/lib/python3.10/site-packages (from msticpy) (4.6.0)\n",
      "Requirement already satisfied: msrest>=0.6.0 in /Users/amit/.local/share/virtualenvs/msticpy-QsK82nVI/lib/python3.10/site-packages (from msticpy) (0.7.1)\n",
      "Requirement already satisfied: azure-core>=1.2.2 in /Users/amit/.local/share/virtualenvs/msticpy-QsK82nVI/lib/python3.10/site-packages (from msticpy) (1.25.0)\n",
      "Requirement already satisfied: KqlmagicCustom[auth_code_clipboard,jupyter-basic]>=0.1.114 in /Users/amit/.local/share/virtualenvs/msticpy-QsK82nVI/lib/python3.10/site-packages (from msticpy) (0.1.114.post21)\n",
      "Requirement already satisfied: tldextract>=2.2.2 in /Users/amit/.local/share/virtualenvs/msticpy-QsK82nVI/lib/python3.10/site-packages (from msticpy) (3.3.1)\n",
      "Requirement already satisfied: urllib3>=1.23 in /Users/amit/.local/share/virtualenvs/msticpy-QsK82nVI/lib/python3.10/site-packages (from msticpy) (1.26.11)\n",
      "Requirement already satisfied: pygments>=2.0.0 in /Users/amit/.local/share/virtualenvs/msticpy-QsK82nVI/lib/python3.10/site-packages (from msticpy) (2.12.0)\n",
      "Requirement already satisfied: numpy>=1.15.4 in /Users/amit/.local/share/virtualenvs/msticpy-QsK82nVI/lib/python3.10/site-packages (from msticpy) (1.23.1)\n",
      "Requirement already satisfied: bokeh>=1.4.0 in /Users/amit/.local/share/virtualenvs/msticpy-QsK82nVI/lib/python3.10/site-packages (from msticpy) (2.4.3)\n",
      "Requirement already satisfied: deprecated>=1.2.4 in /Users/amit/.local/share/virtualenvs/msticpy-QsK82nVI/lib/python3.10/site-packages (from msticpy) (1.2.13)\n",
      "Requirement already satisfied: dnspython<=2.0.0 in /Users/amit/.local/share/virtualenvs/msticpy-QsK82nVI/lib/python3.10/site-packages (from msticpy) (2.0.0)\n",
      "Requirement already satisfied: pytz>=2019.2 in /Users/amit/.local/share/virtualenvs/msticpy-QsK82nVI/lib/python3.10/site-packages (from msticpy) (2022.2.1)\n",
      "Requirement already satisfied: ipython>=7.23.1 in /Users/amit/.local/share/virtualenvs/msticpy-QsK82nVI/lib/python3.10/site-packages (from msticpy) (8.4.0)\n",
      "Requirement already satisfied: azure-common>=1.1.18 in /Users/amit/.local/share/virtualenvs/msticpy-QsK82nVI/lib/python3.10/site-packages (from msticpy) (1.1.28)\n",
      "Requirement already satisfied: ipywidgets>=7.4.2 in /Users/amit/.local/share/virtualenvs/msticpy-QsK82nVI/lib/python3.10/site-packages (from msticpy) (7.7.1)\n",
      "Requirement already satisfied: requests>=2.18.4 in /Users/amit/.local/share/virtualenvs/msticpy-QsK82nVI/lib/python3.10/site-packages (from azure-core>=1.2.2->msticpy) (2.28.1)\n",
      "Requirement already satisfied: six>=1.11.0 in /Users/amit/.local/share/virtualenvs/msticpy-QsK82nVI/lib/python3.10/site-packages (from azure-core>=1.2.2->msticpy) (1.16.0)\n",
      "Requirement already satisfied: azure-mgmt-core<2.0.0,>=1.3.0 in /Users/amit/.local/share/virtualenvs/msticpy-QsK82nVI/lib/python3.10/site-packages (from azure-mgmt-subscription>=1.0.0->msticpy) (1.3.2)\n",
      "Requirement already satisfied: packaging>=16.8 in /Users/amit/.local/share/virtualenvs/msticpy-QsK82nVI/lib/python3.10/site-packages (from bokeh>=1.4.0->msticpy) (21.3)\n",
      "Requirement already satisfied: Jinja2>=2.9 in /Users/amit/.local/share/virtualenvs/msticpy-QsK82nVI/lib/python3.10/site-packages (from bokeh>=1.4.0->msticpy) (3.1.2)\n",
      "Requirement already satisfied: pillow>=7.1.0 in /Users/amit/.local/share/virtualenvs/msticpy-QsK82nVI/lib/python3.10/site-packages (from bokeh>=1.4.0->msticpy) (9.2.0)\n",
      "Requirement already satisfied: tornado>=5.1 in /Users/amit/.local/share/virtualenvs/msticpy-QsK82nVI/lib/python3.10/site-packages (from bokeh>=1.4.0->msticpy) (6.2)\n",
      "Requirement already satisfied: cffi>=1.12 in /Users/amit/.local/share/virtualenvs/msticpy-QsK82nVI/lib/python3.10/site-packages (from cryptography>=3.1->msticpy) (1.15.1)\n",
      "Requirement already satisfied: wrapt<2,>=1.10 in /Users/amit/.local/share/virtualenvs/msticpy-QsK82nVI/lib/python3.10/site-packages (from deprecated>=1.2.4->msticpy) (1.14.1)\n",
      "Requirement already satisfied: branca>=0.3.0 in /Users/amit/.local/share/virtualenvs/msticpy-QsK82nVI/lib/python3.10/site-packages (from folium>=0.9.0->msticpy) (0.5.0)\n",
      "Requirement already satisfied: maxminddb<3.0.0,>=2.2.0 in /Users/amit/.local/share/virtualenvs/msticpy-QsK82nVI/lib/python3.10/site-packages (from geoip2>=2.9.0->msticpy) (2.2.0)\n",
      "Requirement already satisfied: aiohttp<4.0.0,>=3.6.2 in /Users/amit/.local/share/virtualenvs/msticpy-QsK82nVI/lib/python3.10/site-packages (from geoip2>=2.9.0->msticpy) (3.8.1)\n",
      "Requirement already satisfied: rfc3986[idna2008]<2,>=1.3 in /Users/amit/.local/share/virtualenvs/msticpy-QsK82nVI/lib/python3.10/site-packages (from httpx>=0.21->msticpy) (1.5.0)\n",
      "Requirement already satisfied: httpcore<0.16.0,>=0.15.0 in /Users/amit/.local/share/virtualenvs/msticpy-QsK82nVI/lib/python3.10/site-packages (from httpx>=0.21->msticpy) (0.15.0)\n",
      "Requirement already satisfied: certifi in /Users/amit/.local/share/virtualenvs/msticpy-QsK82nVI/lib/python3.10/site-packages (from httpx>=0.21->msticpy) (2022.6.15)\n",
      "Requirement already satisfied: sniffio in /Users/amit/.local/share/virtualenvs/msticpy-QsK82nVI/lib/python3.10/site-packages (from httpx>=0.21->msticpy) (1.2.0)\n"
     ]
    },
    {
     "name": "stdout",
     "output_type": "stream",
     "text": [
      "Requirement already satisfied: matplotlib-inline in /Users/amit/.local/share/virtualenvs/msticpy-QsK82nVI/lib/python3.10/site-packages (from ipython>=7.23.1->msticpy) (0.1.3)\n",
      "Requirement already satisfied: traitlets>=5 in /Users/amit/.local/share/virtualenvs/msticpy-QsK82nVI/lib/python3.10/site-packages (from ipython>=7.23.1->msticpy) (5.3.0)\n",
      "Requirement already satisfied: prompt-toolkit!=3.0.0,!=3.0.1,<3.1.0,>=2.0.0 in /Users/amit/.local/share/virtualenvs/msticpy-QsK82nVI/lib/python3.10/site-packages (from ipython>=7.23.1->msticpy) (3.0.30)\n",
      "Requirement already satisfied: pickleshare in /Users/amit/.local/share/virtualenvs/msticpy-QsK82nVI/lib/python3.10/site-packages (from ipython>=7.23.1->msticpy) (0.7.5)\n",
      "Requirement already satisfied: decorator in /Users/amit/.local/share/virtualenvs/msticpy-QsK82nVI/lib/python3.10/site-packages (from ipython>=7.23.1->msticpy) (5.1.1)\n",
      "Requirement already satisfied: backcall in /Users/amit/.local/share/virtualenvs/msticpy-QsK82nVI/lib/python3.10/site-packages (from ipython>=7.23.1->msticpy) (0.2.0)\n",
      "Requirement already satisfied: stack-data in /Users/amit/.local/share/virtualenvs/msticpy-QsK82nVI/lib/python3.10/site-packages (from ipython>=7.23.1->msticpy) (0.3.0)\n",
      "Requirement already satisfied: pexpect>4.3 in /Users/amit/.local/share/virtualenvs/msticpy-QsK82nVI/lib/python3.10/site-packages (from ipython>=7.23.1->msticpy) (4.8.0)\n",
      "Requirement already satisfied: jedi>=0.16 in /Users/amit/.local/share/virtualenvs/msticpy-QsK82nVI/lib/python3.10/site-packages (from ipython>=7.23.1->msticpy) (0.18.1)\n",
      "Requirement already satisfied: appnope in /Users/amit/.local/share/virtualenvs/msticpy-QsK82nVI/lib/python3.10/site-packages (from ipython>=7.23.1->msticpy) (0.1.3)\n",
      "Requirement already satisfied: widgetsnbextension~=3.6.0 in /Users/amit/.local/share/virtualenvs/msticpy-QsK82nVI/lib/python3.10/site-packages (from ipywidgets>=7.4.2->msticpy) (3.6.1)\n",
      "Requirement already satisfied: ipython-genutils~=0.2.0 in /Users/amit/.local/share/virtualenvs/msticpy-QsK82nVI/lib/python3.10/site-packages (from ipywidgets>=7.4.2->msticpy) (0.2.0)\n",
      "Requirement already satisfied: ipykernel>=4.5.1 in /Users/amit/.local/share/virtualenvs/msticpy-QsK82nVI/lib/python3.10/site-packages (from ipywidgets>=7.4.2->msticpy) (6.15.1)\n",
      "Requirement already satisfied: jupyterlab-widgets>=1.0.0 in /Users/amit/.local/share/virtualenvs/msticpy-QsK82nVI/lib/python3.10/site-packages (from ipywidgets>=7.4.2->msticpy) (1.1.1)\n",
      "Requirement already satisfied: prettytable>=0.7.2 in /Users/amit/.local/share/virtualenvs/msticpy-QsK82nVI/lib/python3.10/site-packages (from KqlmagicCustom[auth_code_clipboard,jupyter-basic]>=0.1.114->msticpy) (3.3.0)\n",
      "Requirement already satisfied: pyperclip>=1.7.0 in /Users/amit/.local/share/virtualenvs/msticpy-QsK82nVI/lib/python3.10/site-packages (from KqlmagicCustom[auth_code_clipboard,jupyter-basic]>=0.1.114->msticpy) (1.8.2)\n",
      "Requirement already satisfied: kiwisolver>=1.0.1 in /Users/amit/.local/share/virtualenvs/msticpy-QsK82nVI/lib/python3.10/site-packages (from matplotlib>=3.0.0->msticpy) (1.4.4)\n",
      "Requirement already satisfied: fonttools>=4.22.0 in /Users/amit/.local/share/virtualenvs/msticpy-QsK82nVI/lib/python3.10/site-packages (from matplotlib>=3.0.0->msticpy) (4.34.4)\n",
      "Requirement already satisfied: cycler>=0.10 in /Users/amit/.local/share/virtualenvs/msticpy-QsK82nVI/lib/python3.10/site-packages (from matplotlib>=3.0.0->msticpy) (0.11.0)\n",
      "Requirement already satisfied: pyparsing>=2.2.1 in /Users/amit/.local/share/virtualenvs/msticpy-QsK82nVI/lib/python3.10/site-packages (from matplotlib>=3.0.0->msticpy) (3.0.9)\n",
      "Requirement already satisfied: PyJWT[crypto]<3,>=1.0.0 in /Users/amit/.local/share/virtualenvs/msticpy-QsK82nVI/lib/python3.10/site-packages (from msal>=1.12.0->msticpy) (2.4.0)\n",
      "Requirement already satisfied: portalocker<3,>=1.0 in /Users/amit/.local/share/virtualenvs/msticpy-QsK82nVI/lib/python3.10/site-packages (from msal-extensions>=0.3.0->msticpy) (2.5.1)\n",
      "Requirement already satisfied: isodate>=0.6.0 in /Users/amit/.local/share/virtualenvs/msticpy-QsK82nVI/lib/python3.10/site-packages (from msrest>=0.6.0->msticpy) (0.6.1)\n",
      "Requirement already satisfied: requests-oauthlib>=0.5.0 in /Users/amit/.local/share/virtualenvs/msticpy-QsK82nVI/lib/python3.10/site-packages (from msrest>=0.6.0->msticpy) (1.3.1)\n",
      "Requirement already satisfied: adal<2.0.0,>=0.6.0 in /Users/amit/.local/share/virtualenvs/msticpy-QsK82nVI/lib/python3.10/site-packages (from msrestazure>=0.6.0->msticpy) (1.2.7)\n",
      "Requirement already satisfied: idna in /Users/amit/.local/share/virtualenvs/msticpy-QsK82nVI/lib/python3.10/site-packages (from tldextract>=2.2.2->msticpy) (3.3)\n",
      "Requirement already satisfied: requests-file>=1.4 in /Users/amit/.local/share/virtualenvs/msticpy-QsK82nVI/lib/python3.10/site-packages (from tldextract>=2.2.2->msticpy) (1.5.1)\n",
      "Requirement already satisfied: filelock>=3.0.8 in /Users/amit/.local/share/virtualenvs/msticpy-QsK82nVI/lib/python3.10/site-packages (from tldextract>=2.2.2->msticpy) (3.8.0)\n",
      "Requirement already satisfied: webencodings in /Users/amit/.local/share/virtualenvs/msticpy-QsK82nVI/lib/python3.10/site-packages (from html5lib->msticpy) (0.5.1)\n",
      "Requirement already satisfied: frozenlist>=1.1.1 in /Users/amit/.local/share/virtualenvs/msticpy-QsK82nVI/lib/python3.10/site-packages (from aiohttp<4.0.0,>=3.6.2->geoip2>=2.9.0->msticpy) (1.3.1)\n",
      "Requirement already satisfied: multidict<7.0,>=4.5 in /Users/amit/.local/share/virtualenvs/msticpy-QsK82nVI/lib/python3.10/site-packages (from aiohttp<4.0.0,>=3.6.2->geoip2>=2.9.0->msticpy) (6.0.2)\n",
      "Requirement already satisfied: async-timeout<5.0,>=4.0.0a3 in /Users/amit/.local/share/virtualenvs/msticpy-QsK82nVI/lib/python3.10/site-packages (from aiohttp<4.0.0,>=3.6.2->geoip2>=2.9.0->msticpy) (4.0.2)\n",
      "Requirement already satisfied: yarl<2.0,>=1.0 in /Users/amit/.local/share/virtualenvs/msticpy-QsK82nVI/lib/python3.10/site-packages (from aiohttp<4.0.0,>=3.6.2->geoip2>=2.9.0->msticpy) (1.8.1)\n",
      "Requirement already satisfied: charset-normalizer<3.0,>=2.0 in /Users/amit/.local/share/virtualenvs/msticpy-QsK82nVI/lib/python3.10/site-packages (from aiohttp<4.0.0,>=3.6.2->geoip2>=2.9.0->msticpy) (2.1.0)\n",
      "Requirement already satisfied: aiosignal>=1.1.2 in /Users/amit/.local/share/virtualenvs/msticpy-QsK82nVI/lib/python3.10/site-packages (from aiohttp<4.0.0,>=3.6.2->geoip2>=2.9.0->msticpy) (1.2.0)\n",
      "Requirement already satisfied: pycparser in /Users/amit/.local/share/virtualenvs/msticpy-QsK82nVI/lib/python3.10/site-packages (from cffi>=1.12->cryptography>=3.1->msticpy) (2.21)\n",
      "Requirement already satisfied: anyio==3.* in /Users/amit/.local/share/virtualenvs/msticpy-QsK82nVI/lib/python3.10/site-packages (from httpcore<0.16.0,>=0.15.0->httpx>=0.21->msticpy) (3.6.1)\n",
      "Requirement already satisfied: h11<0.13,>=0.11 in /Users/amit/.local/share/virtualenvs/msticpy-QsK82nVI/lib/python3.10/site-packages (from httpcore<0.16.0,>=0.15.0->httpx>=0.21->msticpy) (0.12.0)\n",
      "Requirement already satisfied: psutil in /Users/amit/.local/share/virtualenvs/msticpy-QsK82nVI/lib/python3.10/site-packages (from ipykernel>=4.5.1->ipywidgets>=7.4.2->msticpy) (5.9.1)\n",
      "Requirement already satisfied: nest-asyncio in /Users/amit/.local/share/virtualenvs/msticpy-QsK82nVI/lib/python3.10/site-packages (from ipykernel>=4.5.1->ipywidgets>=7.4.2->msticpy) (1.5.5)\n",
      "Requirement already satisfied: debugpy>=1.0 in /Users/amit/.local/share/virtualenvs/msticpy-QsK82nVI/lib/python3.10/site-packages (from ipykernel>=4.5.1->ipywidgets>=7.4.2->msticpy) (1.6.2)\n",
      "Requirement already satisfied: jupyter-client>=6.1.12 in /Users/amit/.local/share/virtualenvs/msticpy-QsK82nVI/lib/python3.10/site-packages (from ipykernel>=4.5.1->ipywidgets>=7.4.2->msticpy) (7.3.4)\n",
      "Requirement already satisfied: pyzmq>=17 in /Users/amit/.local/share/virtualenvs/msticpy-QsK82nVI/lib/python3.10/site-packages (from ipykernel>=4.5.1->ipywidgets>=7.4.2->msticpy) (23.2.1)\n",
      "Requirement already satisfied: parso<0.9.0,>=0.8.0 in /Users/amit/.local/share/virtualenvs/msticpy-QsK82nVI/lib/python3.10/site-packages (from jedi>=0.16->ipython>=7.23.1->msticpy) (0.8.3)\n",
      "Requirement already satisfied: MarkupSafe>=2.0 in /Users/amit/.local/share/virtualenvs/msticpy-QsK82nVI/lib/python3.10/site-packages (from Jinja2>=2.9->bokeh>=1.4.0->msticpy) (2.1.1)\n",
      "Requirement already satisfied: ptyprocess>=0.5 in /Users/amit/.local/share/virtualenvs/msticpy-QsK82nVI/lib/python3.10/site-packages (from pexpect>4.3->ipython>=7.23.1->msticpy) (0.7.0)\n"
     ]
    },
    {
     "name": "stdout",
     "output_type": "stream",
     "text": [
      "Requirement already satisfied: wcwidth in /Users/amit/.local/share/virtualenvs/msticpy-QsK82nVI/lib/python3.10/site-packages (from prettytable>=0.7.2->KqlmagicCustom[auth_code_clipboard,jupyter-basic]>=0.1.114->msticpy) (0.2.5)\n",
      "Requirement already satisfied: oauthlib>=3.0.0 in /Users/amit/.local/share/virtualenvs/msticpy-QsK82nVI/lib/python3.10/site-packages (from requests-oauthlib>=0.5.0->msrest>=0.6.0->msticpy) (3.2.0)\n",
      "Requirement already satisfied: notebook>=4.4.1 in /Users/amit/.local/share/virtualenvs/msticpy-QsK82nVI/lib/python3.10/site-packages (from widgetsnbextension~=3.6.0->ipywidgets>=7.4.2->msticpy) (6.4.12)\n",
      "Requirement already satisfied: pure-eval in /Users/amit/.local/share/virtualenvs/msticpy-QsK82nVI/lib/python3.10/site-packages (from stack-data->ipython>=7.23.1->msticpy) (0.2.2)\n",
      "Requirement already satisfied: executing in /Users/amit/.local/share/virtualenvs/msticpy-QsK82nVI/lib/python3.10/site-packages (from stack-data->ipython>=7.23.1->msticpy) (0.9.1)\n",
      "Requirement already satisfied: asttokens in /Users/amit/.local/share/virtualenvs/msticpy-QsK82nVI/lib/python3.10/site-packages (from stack-data->ipython>=7.23.1->msticpy) (2.0.7)\n",
      "Requirement already satisfied: jupyter-core>=4.9.2 in /Users/amit/.local/share/virtualenvs/msticpy-QsK82nVI/lib/python3.10/site-packages (from jupyter-client>=6.1.12->ipykernel>=4.5.1->ipywidgets>=7.4.2->msticpy) (4.11.1)\n",
      "Requirement already satisfied: entrypoints in /Users/amit/.local/share/virtualenvs/msticpy-QsK82nVI/lib/python3.10/site-packages (from jupyter-client>=6.1.12->ipykernel>=4.5.1->ipywidgets>=7.4.2->msticpy) (0.4)\n",
      "Requirement already satisfied: Send2Trash>=1.8.0 in /Users/amit/.local/share/virtualenvs/msticpy-QsK82nVI/lib/python3.10/site-packages (from notebook>=4.4.1->widgetsnbextension~=3.6.0->ipywidgets>=7.4.2->msticpy) (1.8.0)\n",
      "Requirement already satisfied: nbformat in /Users/amit/.local/share/virtualenvs/msticpy-QsK82nVI/lib/python3.10/site-packages (from notebook>=4.4.1->widgetsnbextension~=3.6.0->ipywidgets>=7.4.2->msticpy) (5.4.0)\n",
      "Requirement already satisfied: prometheus-client in /Users/amit/.local/share/virtualenvs/msticpy-QsK82nVI/lib/python3.10/site-packages (from notebook>=4.4.1->widgetsnbextension~=3.6.0->ipywidgets>=7.4.2->msticpy) (0.14.1)\n",
      "Requirement already satisfied: argon2-cffi in /Users/amit/.local/share/virtualenvs/msticpy-QsK82nVI/lib/python3.10/site-packages (from notebook>=4.4.1->widgetsnbextension~=3.6.0->ipywidgets>=7.4.2->msticpy) (21.3.0)\n",
      "Requirement already satisfied: nbconvert>=5 in /Users/amit/.local/share/virtualenvs/msticpy-QsK82nVI/lib/python3.10/site-packages (from notebook>=4.4.1->widgetsnbextension~=3.6.0->ipywidgets>=7.4.2->msticpy) (6.5.3)\n",
      "Requirement already satisfied: terminado>=0.8.3 in /Users/amit/.local/share/virtualenvs/msticpy-QsK82nVI/lib/python3.10/site-packages (from notebook>=4.4.1->widgetsnbextension~=3.6.0->ipywidgets>=7.4.2->msticpy) (0.15.0)\n",
      "Requirement already satisfied: beautifulsoup4 in /Users/amit/.local/share/virtualenvs/msticpy-QsK82nVI/lib/python3.10/site-packages (from nbconvert>=5->notebook>=4.4.1->widgetsnbextension~=3.6.0->ipywidgets>=7.4.2->msticpy) (4.11.1)\n",
      "Requirement already satisfied: jupyterlab-pygments in /Users/amit/.local/share/virtualenvs/msticpy-QsK82nVI/lib/python3.10/site-packages (from nbconvert>=5->notebook>=4.4.1->widgetsnbextension~=3.6.0->ipywidgets>=7.4.2->msticpy) (0.2.2)\n",
      "Requirement already satisfied: mistune<2,>=0.8.1 in /Users/amit/.local/share/virtualenvs/msticpy-QsK82nVI/lib/python3.10/site-packages (from nbconvert>=5->notebook>=4.4.1->widgetsnbextension~=3.6.0->ipywidgets>=7.4.2->msticpy) (0.8.4)\n",
      "Requirement already satisfied: nbclient>=0.5.0 in /Users/amit/.local/share/virtualenvs/msticpy-QsK82nVI/lib/python3.10/site-packages (from nbconvert>=5->notebook>=4.4.1->widgetsnbextension~=3.6.0->ipywidgets>=7.4.2->msticpy) (0.6.6)\n",
      "Requirement already satisfied: pandocfilters>=1.4.1 in /Users/amit/.local/share/virtualenvs/msticpy-QsK82nVI/lib/python3.10/site-packages (from nbconvert>=5->notebook>=4.4.1->widgetsnbextension~=3.6.0->ipywidgets>=7.4.2->msticpy) (1.5.0)\n",
      "Requirement already satisfied: defusedxml in /Users/amit/.local/share/virtualenvs/msticpy-QsK82nVI/lib/python3.10/site-packages (from nbconvert>=5->notebook>=4.4.1->widgetsnbextension~=3.6.0->ipywidgets>=7.4.2->msticpy) (0.7.1)\n",
      "Requirement already satisfied: tinycss2 in /Users/amit/.local/share/virtualenvs/msticpy-QsK82nVI/lib/python3.10/site-packages (from nbconvert>=5->notebook>=4.4.1->widgetsnbextension~=3.6.0->ipywidgets>=7.4.2->msticpy) (1.1.1)\n",
      "Requirement already satisfied: bleach in /Users/amit/.local/share/virtualenvs/msticpy-QsK82nVI/lib/python3.10/site-packages (from nbconvert>=5->notebook>=4.4.1->widgetsnbextension~=3.6.0->ipywidgets>=7.4.2->msticpy) (5.0.1)\n",
      "Requirement already satisfied: fastjsonschema in /Users/amit/.local/share/virtualenvs/msticpy-QsK82nVI/lib/python3.10/site-packages (from nbformat->notebook>=4.4.1->widgetsnbextension~=3.6.0->ipywidgets>=7.4.2->msticpy) (2.16.1)\n",
      "Requirement already satisfied: jsonschema>=2.6 in /Users/amit/.local/share/virtualenvs/msticpy-QsK82nVI/lib/python3.10/site-packages (from nbformat->notebook>=4.4.1->widgetsnbextension~=3.6.0->ipywidgets>=7.4.2->msticpy) (4.9.1)\n",
      "Requirement already satisfied: argon2-cffi-bindings in /Users/amit/.local/share/virtualenvs/msticpy-QsK82nVI/lib/python3.10/site-packages (from argon2-cffi->notebook>=4.4.1->widgetsnbextension~=3.6.0->ipywidgets>=7.4.2->msticpy) (21.2.0)\n",
      "Requirement already satisfied: pyrsistent!=0.17.0,!=0.17.1,!=0.17.2,>=0.14.0 in /Users/amit/.local/share/virtualenvs/msticpy-QsK82nVI/lib/python3.10/site-packages (from jsonschema>=2.6->nbformat->notebook>=4.4.1->widgetsnbextension~=3.6.0->ipywidgets>=7.4.2->msticpy) (0.18.1)\n",
      "Requirement already satisfied: soupsieve>1.2 in /Users/amit/.local/share/virtualenvs/msticpy-QsK82nVI/lib/python3.10/site-packages (from beautifulsoup4->nbconvert>=5->notebook>=4.4.1->widgetsnbextension~=3.6.0->ipywidgets>=7.4.2->msticpy) (2.3.2.post1)\n",
      "Note: you may need to restart the kernel to use updated packages.\n"
     ]
    }
   ],
   "source": [
    "%pip install msticpy --upgrade"
   ]
  },
  {
   "cell_type": "code",
   "execution_count": 30,
   "id": "2d51c720",
   "metadata": {},
   "outputs": [],
   "source": [
    "import msticpy as mp"
   ]
  },
  {
   "cell_type": "code",
   "execution_count": 31,
   "id": "da14cbe2",
   "metadata": {},
   "outputs": [
    {
     "name": "stdout",
     "output_type": "stream",
     "text": [
      "Help on package msticpy:\n",
      "\n",
      "NAME\n",
      "    msticpy - Jupyter and Python Tools for InfoSec.\n",
      "\n",
      "DESCRIPTION\n",
      "    -----------------------------------------------\n",
      "    \n",
      "    Requires Python 3.8 or later.\n",
      "    \n",
      "    To quickly import common modules into a notebook run:\n",
      "    \n",
      "    >>> import msticpy as mp\n",
      "    >>> mp.init_notebook()\n",
      "    \n",
      "    If not running in a notebook/IPython use\n",
      "    >>> mp.init_notebook(globals())\n",
      "    \n",
      "    To see help on `init_notebook`:\n",
      "    >>> help(mp.init_notebook)\n",
      "    \n",
      "    Search msticpy modules for a keyword:\n",
      "    >>> mp.search(keyword)\n",
      "    \n",
      "    -----------------------------------------------\n",
      "    \n",
      "    Full documentation is available at:\n",
      "    https://msticpy.readthedocs.io\n",
      "    \n",
      "    GitHub repo:\n",
      "    https://github.com/microsoft/msticpy\n",
      "    \n",
      "    \n",
      "    Package structure:\n",
      "    \n",
      "    - analysis - analysis functions\n",
      "    - auth - authentication and secrets management\n",
      "    - common - utility functions, common types, exceptions\n",
      "    - config - configuration tool\n",
      "    - data - queries, data access, context functions\n",
      "    - datamodel - entities and pivot functions\n",
      "    - init - package initialization\n",
      "    - nbtools - deprecated location\n",
      "    - nbwidgets - notebook widgets\n",
      "    - resources - data resource files\n",
      "    - transform - data transforms and decoding\n",
      "    - vis - visualizations\n",
      "    \n",
      "    Configuration:\n",
      "    \n",
      "    - set MSTICPYCONFIG environment variable to point to the path\n",
      "      of your `msticpyconfig.yaml` file.\n",
      "\n",
      "PACKAGE CONTENTS\n",
      "    _version\n",
      "    analysis (package)\n",
      "    auth (package)\n",
      "    common (package)\n",
      "    config (package)\n",
      "    context (package)\n",
      "    data (package)\n",
      "    datamodel (package)\n",
      "    init (package)\n",
      "    nbtools (package)\n",
      "    nbwidgets (package)\n",
      "    sectools (package)\n",
      "    transform (package)\n",
      "    vis (package)\n",
      "\n",
      "SUBMODULES\n",
      "    entities\n",
      "    settings\n",
      "\n",
      "DATA\n",
      "    Any = typing.Any\n",
      "        Special type indicating an unconstrained type.\n",
      "        \n",
      "        - Any is compatible with every type.\n",
      "        - Any assumed to have all methods.\n",
      "        - All values assumed to be instances of Any.\n",
      "        \n",
      "        Note that all the above statements are true from the point of view of\n",
      "        static type checkers. At runtime, Any should not be used with instance\n",
      "        or class checks.\n",
      "    \n",
      "    GeoLiteLookup = <msticpy.common.utility.types.SingletonArgsClass objec...\n",
      "        GeoIP Lookup using MaxMindDB database.\n",
      "        \n",
      "        See Also\n",
      "        --------\n",
      "        GeoIpLookup : Abstract base class\n",
      "        IPStackLookup : IPStack GeoIP Implementation\n",
      "    \n",
      "    Pivot = <msticpy.common.utility.types.SingletonClass object>\n",
      "        Pivot environment loader.\n",
      "    \n",
      "    VERSION = '2.0.0'\n",
      "    current_providers = {}\n",
      "\n",
      "VERSION\n",
      "    2.0.0\n",
      "\n",
      "AUTHOR\n",
      "    Ian Hellen, Pete Bryan, Ashwin Patil\n",
      "\n",
      "FILE\n",
      "    /Users/amit/.local/share/virtualenvs/msticpy-QsK82nVI/lib/python3.10/site-packages/msticpy/__init__.py\n",
      "\n",
      "\n"
     ]
    }
   ],
   "source": [
    "help(mp)"
   ]
  },
  {
   "cell_type": "code",
   "execution_count": 32,
   "id": "e5b7f00d",
   "metadata": {},
   "outputs": [
    {
     "data": {
      "text/html": [
       "\n",
       "    <style>\n",
       "        .table_mod {border-collapse: collapse; width: 50%;}\n",
       "        .cell_mod {border: 1px solid #ddd !important;\n",
       "            text-align: left !important; padding: 15px !important;}\n",
       "    </style>\n",
       "    <h4>Modules matching 'geo'</h4>\n",
       "    <table class='table_mod'>\n",
       "    <tr class='cell_mod'><th>Module</th><th>Help</th></tr>\n",
       "    <tr class='cell_mod'><td>msticpy.datamodel.entities.geo_location</td><td><a href=https://msticpy.readthedocs.io/en/latest/api/msticpy.datamodel.entities.geo_location.html target='_blank'>msticpy.datamodel.entities.geo_location</a></td></tr>\n",
       "<tr class='cell_mod'><td>msticpy.context.geoip</td><td><a href=https://msticpy.readthedocs.io/en/latest/api/msticpy.context.geoip.html target='_blank'>msticpy.context.geoip</a></td></tr>\n",
       "    </table>\n",
       "    "
      ],
      "text/plain": [
       "<IPython.core.display.HTML object>"
      ]
     },
     "metadata": {},
     "output_type": "display_data"
    }
   ],
   "source": [
    "mp.search(\"geo\")"
   ]
  },
  {
   "cell_type": "code",
   "execution_count": 33,
   "id": "7c4391d4",
   "metadata": {},
   "outputs": [
    {
     "data": {
      "text/html": [
       "\n",
       "    <style>\n",
       "        .table_mod {border-collapse: collapse; width: 50%;}\n",
       "        .cell_mod {border: 1px solid #ddd !important;\n",
       "            text-align: left !important; padding: 15px !important;}\n",
       "    </style>\n",
       "    <h4>Modules matching 'riskiq'</h4>\n",
       "    <table class='table_mod'>\n",
       "    <tr class='cell_mod'><th>Module</th><th>Help</th></tr>\n",
       "    <tr class='cell_mod'><td>msticpy.context.tiproviders.riskiq</td><td><a href=https://msticpy.readthedocs.io/en/latest/api/msticpy.context.tiproviders.riskiq.html target='_blank'>msticpy.context.tiproviders.riskiq</a></td></tr>\n",
       "    </table>\n",
       "    "
      ],
      "text/plain": [
       "<IPython.core.display.HTML object>"
      ]
     },
     "metadata": {},
     "output_type": "display_data"
    }
   ],
   "source": [
    "mp.search(\"riskiq\")"
   ]
  },
  {
   "cell_type": "code",
   "execution_count": 21,
   "id": "cc93021d",
   "metadata": {},
   "outputs": [
    {
     "name": "stdout",
     "output_type": "stream",
     "text": [
      "Requirement already satisfied: azure-mgmt-resource in /Users/amit/.local/share/virtualenvs/msticpy-QsK82nVI/lib/python3.10/site-packages (21.1.0)\n",
      "Requirement already satisfied: azure-common~=1.1 in /Users/amit/.local/share/virtualenvs/msticpy-QsK82nVI/lib/python3.10/site-packages (from azure-mgmt-resource) (1.1.28)\n",
      "Requirement already satisfied: azure-mgmt-core<2.0.0,>=1.3.0 in /Users/amit/.local/share/virtualenvs/msticpy-QsK82nVI/lib/python3.10/site-packages (from azure-mgmt-resource) (1.3.2)\n",
      "Requirement already satisfied: msrest>=0.6.21 in /Users/amit/.local/share/virtualenvs/msticpy-QsK82nVI/lib/python3.10/site-packages (from azure-mgmt-resource) (0.7.1)\n",
      "Requirement already satisfied: azure-core<2.0.0,>=1.24.0 in /Users/amit/.local/share/virtualenvs/msticpy-QsK82nVI/lib/python3.10/site-packages (from azure-mgmt-core<2.0.0,>=1.3.0->azure-mgmt-resource) (1.25.0)\n",
      "Requirement already satisfied: certifi>=2017.4.17 in /Users/amit/.local/share/virtualenvs/msticpy-QsK82nVI/lib/python3.10/site-packages (from msrest>=0.6.21->azure-mgmt-resource) (2022.6.15)\n",
      "Requirement already satisfied: requests~=2.16 in /Users/amit/.local/share/virtualenvs/msticpy-QsK82nVI/lib/python3.10/site-packages (from msrest>=0.6.21->azure-mgmt-resource) (2.28.1)\n",
      "Requirement already satisfied: isodate>=0.6.0 in /Users/amit/.local/share/virtualenvs/msticpy-QsK82nVI/lib/python3.10/site-packages (from msrest>=0.6.21->azure-mgmt-resource) (0.6.1)\n",
      "Requirement already satisfied: requests-oauthlib>=0.5.0 in /Users/amit/.local/share/virtualenvs/msticpy-QsK82nVI/lib/python3.10/site-packages (from msrest>=0.6.21->azure-mgmt-resource) (1.3.1)\n",
      "Requirement already satisfied: typing-extensions>=4.0.1 in /Users/amit/.local/share/virtualenvs/msticpy-QsK82nVI/lib/python3.10/site-packages (from azure-core<2.0.0,>=1.24.0->azure-mgmt-core<2.0.0,>=1.3.0->azure-mgmt-resource) (4.3.0)\n",
      "Requirement already satisfied: six>=1.11.0 in /Users/amit/.local/share/virtualenvs/msticpy-QsK82nVI/lib/python3.10/site-packages (from azure-core<2.0.0,>=1.24.0->azure-mgmt-core<2.0.0,>=1.3.0->azure-mgmt-resource) (1.16.0)\n",
      "Requirement already satisfied: idna<4,>=2.5 in /Users/amit/.local/share/virtualenvs/msticpy-QsK82nVI/lib/python3.10/site-packages (from requests~=2.16->msrest>=0.6.21->azure-mgmt-resource) (3.3)\n",
      "Requirement already satisfied: charset-normalizer<3,>=2 in /Users/amit/.local/share/virtualenvs/msticpy-QsK82nVI/lib/python3.10/site-packages (from requests~=2.16->msrest>=0.6.21->azure-mgmt-resource) (2.1.0)\n",
      "Requirement already satisfied: urllib3<1.27,>=1.21.1 in /Users/amit/.local/share/virtualenvs/msticpy-QsK82nVI/lib/python3.10/site-packages (from requests~=2.16->msrest>=0.6.21->azure-mgmt-resource) (1.26.11)\n",
      "Requirement already satisfied: oauthlib>=3.0.0 in /Users/amit/.local/share/virtualenvs/msticpy-QsK82nVI/lib/python3.10/site-packages (from requests-oauthlib>=0.5.0->msrest>=0.6.21->azure-mgmt-resource) (3.2.0)\n",
      "Collecting azure-mgmt-network\n",
      "  Downloading azure_mgmt_network-21.0.0-py3-none-any.whl (8.9 MB)\n",
      "\u001b[2K     \u001b[90m━━━━━━━━━━━━━━━━━━━━━━━━━━━━━━━━━━━━━━━━\u001b[0m \u001b[32m8.9/8.9 MB\u001b[0m \u001b[31m10.0 MB/s\u001b[0m eta \u001b[36m0:00:00\u001b[0m00:01\u001b[0m00:01\u001b[0m\n",
      "\u001b[?25hRequirement already satisfied: azure-mgmt-core<2.0.0,>=1.3.1 in /Users/amit/.local/share/virtualenvs/msticpy-QsK82nVI/lib/python3.10/site-packages (from azure-mgmt-network) (1.3.2)\n",
      "Requirement already satisfied: azure-common~=1.1 in /Users/amit/.local/share/virtualenvs/msticpy-QsK82nVI/lib/python3.10/site-packages (from azure-mgmt-network) (1.1.28)\n",
      "Requirement already satisfied: msrest>=0.6.21 in /Users/amit/.local/share/virtualenvs/msticpy-QsK82nVI/lib/python3.10/site-packages (from azure-mgmt-network) (0.7.1)\n",
      "Requirement already satisfied: azure-core<2.0.0,>=1.24.0 in /Users/amit/.local/share/virtualenvs/msticpy-QsK82nVI/lib/python3.10/site-packages (from azure-mgmt-core<2.0.0,>=1.3.1->azure-mgmt-network) (1.25.0)\n",
      "Requirement already satisfied: requests-oauthlib>=0.5.0 in /Users/amit/.local/share/virtualenvs/msticpy-QsK82nVI/lib/python3.10/site-packages (from msrest>=0.6.21->azure-mgmt-network) (1.3.1)\n",
      "Requirement already satisfied: requests~=2.16 in /Users/amit/.local/share/virtualenvs/msticpy-QsK82nVI/lib/python3.10/site-packages (from msrest>=0.6.21->azure-mgmt-network) (2.28.1)\n",
      "Requirement already satisfied: isodate>=0.6.0 in /Users/amit/.local/share/virtualenvs/msticpy-QsK82nVI/lib/python3.10/site-packages (from msrest>=0.6.21->azure-mgmt-network) (0.6.1)\n",
      "Requirement already satisfied: certifi>=2017.4.17 in /Users/amit/.local/share/virtualenvs/msticpy-QsK82nVI/lib/python3.10/site-packages (from msrest>=0.6.21->azure-mgmt-network) (2022.6.15)\n",
      "Requirement already satisfied: typing-extensions>=4.0.1 in /Users/amit/.local/share/virtualenvs/msticpy-QsK82nVI/lib/python3.10/site-packages (from azure-core<2.0.0,>=1.24.0->azure-mgmt-core<2.0.0,>=1.3.1->azure-mgmt-network) (4.3.0)\n",
      "Requirement already satisfied: six>=1.11.0 in /Users/amit/.local/share/virtualenvs/msticpy-QsK82nVI/lib/python3.10/site-packages (from azure-core<2.0.0,>=1.24.0->azure-mgmt-core<2.0.0,>=1.3.1->azure-mgmt-network) (1.16.0)\n",
      "Requirement already satisfied: urllib3<1.27,>=1.21.1 in /Users/amit/.local/share/virtualenvs/msticpy-QsK82nVI/lib/python3.10/site-packages (from requests~=2.16->msrest>=0.6.21->azure-mgmt-network) (1.26.11)\n",
      "Requirement already satisfied: charset-normalizer<3,>=2 in /Users/amit/.local/share/virtualenvs/msticpy-QsK82nVI/lib/python3.10/site-packages (from requests~=2.16->msrest>=0.6.21->azure-mgmt-network) (2.1.0)\n",
      "Requirement already satisfied: idna<4,>=2.5 in /Users/amit/.local/share/virtualenvs/msticpy-QsK82nVI/lib/python3.10/site-packages (from requests~=2.16->msrest>=0.6.21->azure-mgmt-network) (3.3)\n",
      "Requirement already satisfied: oauthlib>=3.0.0 in /Users/amit/.local/share/virtualenvs/msticpy-QsK82nVI/lib/python3.10/site-packages (from requests-oauthlib>=0.5.0->msrest>=0.6.21->azure-mgmt-network) (3.2.0)\n",
      "Installing collected packages: azure-mgmt-network\n",
      "Successfully installed azure-mgmt-network-21.0.0\n"
     ]
    }
   ],
   "source": [
    "!pip install azure-mgmt-resource\n",
    "!pip install azure-mgmt-network\n"
   ]
  },
  {
   "cell_type": "code",
   "execution_count": 34,
   "id": "77be976e",
   "metadata": {},
   "outputs": [
    {
     "data": {
      "text/html": [
       "\n",
       "This library uses services provided by ipstack.\n",
       "<a href=\"https://ipstack.com\">https://ipstack.com</a>"
      ],
      "text/plain": [
       "<IPython.core.display.HTML object>"
      ]
     },
     "metadata": {},
     "output_type": "display_data"
    },
    {
     "data": {
      "text/html": [
       "<p style=''><font color='orange'><h3>Notebook setup completed with some warnings.</h3></p>"
      ],
      "text/plain": [
       "<IPython.core.display.HTML object>"
      ]
     },
     "metadata": {},
     "output_type": "display_data"
    },
    {
     "data": {
      "text/html": [
       "<p style=''>One or more configuration items were missing or set incorrectly.</p>"
      ],
      "text/plain": [
       "<IPython.core.display.HTML object>"
      ]
     },
     "metadata": {},
     "output_type": "display_data"
    },
    {
     "data": {
      "text/html": [
       "<p style=''>Please run the <i>Getting Started Guide for Azure Sentinel ML Notebooks</i> notebook. and the <a href='https://msticpy.readthedocs.io/en/latest/getting_started/msticpyconfig.html'>msticpy configuration guide</a>.</p>"
      ],
      "text/plain": [
       "<IPython.core.display.HTML object>"
      ]
     },
     "metadata": {},
     "output_type": "display_data"
    },
    {
     "data": {
      "text/html": [
       "<p style=''>This notebook may still run but with reduced functionality.</p>"
      ],
      "text/plain": [
       "<IPython.core.display.HTML object>"
      ]
     },
     "metadata": {},
     "output_type": "display_data"
    }
   ],
   "source": [
    "import msticpy as mp\n",
    "mp.init_notebook()"
   ]
  },
  {
   "cell_type": "code",
   "execution_count": 35,
   "id": "645a8429",
   "metadata": {},
   "outputs": [
    {
     "data": {
      "text/html": [
       "<p style=''><font color='orange'><h3>Notebook setup completed with some warnings.</h3></p>"
      ],
      "text/plain": [
       "<IPython.core.display.HTML object>"
      ]
     },
     "metadata": {},
     "output_type": "display_data"
    },
    {
     "data": {
      "text/html": [
       "<p style=''>One or more configuration items were missing or set incorrectly.</p>"
      ],
      "text/plain": [
       "<IPython.core.display.HTML object>"
      ]
     },
     "metadata": {},
     "output_type": "display_data"
    },
    {
     "data": {
      "text/html": [
       "<p style=''>Please run the <i>Getting Started Guide for Azure Sentinel ML Notebooks</i> notebook. and the <a href='https://msticpy.readthedocs.io/en/latest/getting_started/msticpyconfig.html'>msticpy configuration guide</a>.</p>"
      ],
      "text/plain": [
       "<IPython.core.display.HTML object>"
      ]
     },
     "metadata": {},
     "output_type": "display_data"
    },
    {
     "data": {
      "text/html": [
       "<p style=''>This notebook may still run but with reduced functionality.</p>"
      ],
      "text/plain": [
       "<IPython.core.display.HTML object>"
      ]
     },
     "metadata": {},
     "output_type": "display_data"
    },
    {
     "ename": "ModuleNotFoundError",
     "evalue": "No module named 'mp_data'",
     "output_type": "error",
     "traceback": [
      "\u001b[0;31m---------------------------------------------------------------------------\u001b[0m",
      "\u001b[0;31mModuleNotFoundError\u001b[0m                       Traceback (most recent call last)",
      "Input \u001b[0;32mIn [35]\u001b[0m, in \u001b[0;36m<cell line: 8>\u001b[0;34m()\u001b[0m\n\u001b[1;32m      3\u001b[0m nbinit\u001b[38;5;241m.\u001b[39minit_notebook(\n\u001b[1;32m      4\u001b[0m     namespace\u001b[38;5;241m=\u001b[39m\u001b[38;5;28mglobals\u001b[39m(),\n\u001b[1;32m      5\u001b[0m )\n\u001b[1;32m      6\u001b[0m \u001b[38;5;28;01mfrom\u001b[39;00m \u001b[38;5;21;01mmsticpy\u001b[39;00m\u001b[38;5;21;01m.\u001b[39;00m\u001b[38;5;21;01msectools\u001b[39;00m\u001b[38;5;21;01m.\u001b[39;00m\u001b[38;5;21;01mip_utils\u001b[39;00m \u001b[38;5;28;01mimport\u001b[39;00m get_whois_info\n\u001b[0;32m----> 8\u001b[0m \u001b[38;5;28;01mfrom\u001b[39;00m \u001b[38;5;21;01mmp_data\u001b[39;00m \u001b[38;5;28;01mimport\u001b[39;00m TILookupDemo \u001b[38;5;28;01mas\u001b[39;00m TILookup\n\u001b[1;32m      9\u001b[0m \u001b[38;5;28;01mfrom\u001b[39;00m \u001b[38;5;21;01mmp_data\u001b[39;00m \u001b[38;5;28;01mimport\u001b[39;00m GeoLiteLookupDemo \u001b[38;5;28;01mas\u001b[39;00m GeoLiteLookup\n\u001b[1;32m     10\u001b[0m \u001b[38;5;28;01mfrom\u001b[39;00m \u001b[38;5;21;01mmp_data\u001b[39;00m \u001b[38;5;28;01mimport\u001b[39;00m get_whois_info_demo \u001b[38;5;28;01mas\u001b[39;00m get_whois_info\n",
      "\u001b[0;31mModuleNotFoundError\u001b[0m: No module named 'mp_data'"
     ]
    }
   ],
   "source": [
    "# Imports\n",
    "from msticpy.nbtools import nbinit\n",
    "nbinit.init_notebook(\n",
    "    namespace=globals(),\n",
    ")\n",
    "from msticpy.sectools.ip_utils import get_whois_info\n",
    "\n",
    "from mp_data import TILookupDemo as TILookup\n",
    "from mp_data import GeoLiteLookupDemo as GeoLiteLookup\n",
    "from mp_data import get_whois_info_demo as get_whois_info\n",
    "\n",
    "sns.set()\n",
    "\n",
    "# Set up data and authenticate\n",
    "ws_config = WorkspaceConfig(workspace=\"ASIHuntOMSWorkspaceV4\")\n",
    "qry_prov = QueryProvider(\n",
    "    data_environment='LocalData',\n",
    "    data_paths=[\"./data\"],\n",
    "    query_paths=[\"./data\"],\n",
    ")\n",
    "qry_prov.connect(connection_str=ws_config.code_connect_str)"
   ]
  },
  {
   "cell_type": "code",
   "execution_count": 13,
   "id": "2dff1912",
   "metadata": {},
   "outputs": [
    {
     "name": "stdout",
     "output_type": "stream",
     "text": [
      "zsh:1: no matches found: msticpy[azure,kql]\r\n"
     ]
    }
   ],
   "source": [
    "!pip install msticpy[azure,kql]"
   ]
  },
  {
   "cell_type": "code",
   "execution_count": null,
   "id": "734b3aa2",
   "metadata": {},
   "outputs": [],
   "source": []
  }
 ],
 "metadata": {
  "kernelspec": {
   "display_name": "Python 3 (ipykernel)",
   "language": "python",
   "name": "python3"
  },
  "language_info": {
   "codemirror_mode": {
    "name": "ipython",
    "version": 3
   },
   "file_extension": ".py",
   "mimetype": "text/x-python",
   "name": "python",
   "nbconvert_exporter": "python",
   "pygments_lexer": "ipython3",
   "version": "3.10.6"
  }
 },
 "nbformat": 4,
 "nbformat_minor": 5
}
